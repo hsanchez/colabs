{
  "cells": [
    {
      "cell_type": "markdown",
      "metadata": {
        "id": "view-in-github",
        "colab_type": "text"
      },
      "source": [
        "<a href=\"https://colab.research.google.com/github/hsanchez/colabs/blob/main/wlk/Weisfeiler_Lehman_Neural_Machine.ipynb\" target=\"_parent\"><img src=\"https://colab.research.google.com/assets/colab-badge.svg\" alt=\"Open In Colab\"/></a>"
      ]
    },
    {
      "cell_type": "markdown",
      "metadata": {
        "id": "taXnlrGNxMV8"
      },
      "source": [
        "# Weisfeiler-Lehman Neural Machine for Link Prediction\n",
        "\n",
        "## Paper summary\n",
        "\n",
        "There are many times when want to predict\n",
        "whether a link will exist between two nodes in a graph.\n",
        "\n",
        "In social networks, we want to predict whether two\n",
        "people will become friends.... in user-project networks \n",
        "where we want to recommend products to users ... Or\n",
        "in API call prediction where want to recommend APIs to developers.\n",
        "\n",
        "Currently, most solutions are heuristic based solutions; e.g., \n",
        "1. The common neighbors (CN) heuristic where\n",
        "   we calculate some node proximity score to generate a link; e.g., given two \n",
        "   nodes x and y, we say that x and y are likely to have \n",
        "   a link if they have many common neighbors\n",
        "2. The preferential-attachment heuristic where we predict\n",
        "   links using the product of number of degrees; e.g., x\n",
        "   prefers to connect to y if y is popular.\n",
        "3. and more\n",
        "\n",
        "The problems of heuristics methods:\n",
        "\n",
        "1. They have strong assumptions about link formation (too rigid),\n",
        "2. They can been seen as some handcrafted graph features\n",
        "\n",
        "_Can we automatically learn such features from the network?_\n",
        "\n",
        "The Weisfeiler-Lehman Neural Machine uses neural networks to \n",
        "automatically learn graph features for link prediction.\n",
        "This approach is the first deep learning approach (not by embedding)\n",
        "for link prediction:\n",
        "\n",
        "Given a link L = (x, y), (1) we extract its local neighborhood subgraph as the data\n",
        "representation for L by adding L's 1-hop neighbors, 2-hop neigbors, and so forth. We do\n",
        "this iteratively in other to extract this subgraph, which represents the local subgraph\n",
        "pattern of a link. (2) We transform the subgraph into a vector by performing graph\n",
        "labeling to determine vertex ordering, and then construct an adjancency matrix, which we\n",
        "vertically feed it into neural network.\n",
        "\n",
        "```\n",
        "@inproceedings{zhang2017weisfeiler,\n",
        "  title={Weisfeiler-lehman neural machine for link prediction},\n",
        "  author={Zhang, Muhan and Chen, Yixin},\n",
        "  booktitle={Proceedings of the 23rd ACM SIGKDD International Conference on Knowledge Discovery and Data Mining},\n",
        "  pages={575--583},\n",
        "  year={2017}\n",
        "}\n",
        "```\n"
      ]
    },
    {
      "cell_type": "markdown",
      "metadata": {
        "id": "aN4fQB2hxMWA"
      },
      "source": [
        "## Importing the library"
      ]
    },
    {
      "cell_type": "code",
      "execution_count": 5,
      "metadata": {
        "id": "-Le85qiDxMWA"
      },
      "outputs": [],
      "source": [
        "import networkx as nx\n",
        "import scipy.sparse\n",
        "import matplotlib.pyplot as plt\n",
        "import numpy as np\n",
        "from scipy.io import loadmat\n",
        "import math\n",
        "import pandas as pd\n",
        "import subprocess\n",
        "import os"
      ]
    },
    {
      "cell_type": "markdown",
      "metadata": {
        "id": "Man-uEZ7xMWC"
      },
      "source": [
        "## Importing the dataset"
      ]
    },
    {
      "cell_type": "code",
      "source": [
        "# download mat file from its home at GitHub\n",
        "FILENAME = 'USAir.mat'\n",
        "if not os.path.exists(f'{FILENAME}'):\n",
        "  !wget --load-cookies /tmp/cookies.txt \"https://docs.google.com/uc?export=download&confirm=$(wget --quiet --save-cookies /tmp/cookies.txt --keep-session-cookies --no-check-certificate 'https://docs.google.com/uc?export=download&id=1yyDyrxlIj51BFVnj0Xuz2sglbHqk1mjm' -O- | sed -rn 's/.*confirm=([0-9A-Za-z_]+).*/\\1\\n/p')&id=1yyDyrxlIj51BFVnj0Xuz2sglbHqk1mjm\" -O 'USAir.mat' && rm -rf /tmp/cookies.txt\n",
        "else:\n",
        "  print(f\"{FILENAME} does exist!\")\n"
      ],
      "metadata": {
        "colab": {
          "base_uri": "https://localhost:8080/"
        },
        "id": "BaH05z6j3NyQ",
        "outputId": "aa8ce6df-e4b3-40e6-bd5b-5b1e78ca27a6"
      },
      "execution_count": 6,
      "outputs": [
        {
          "output_type": "stream",
          "name": "stdout",
          "text": [
            "USAir.mat does exist!\n"
          ]
        }
      ]
    },
    {
      "cell_type": "code",
      "source": [
        "data = loadmat(f'./{FILENAME}')"
      ],
      "metadata": {
        "id": "DuAU_HJFmrb-"
      },
      "execution_count": 7,
      "outputs": []
    },
    {
      "cell_type": "code",
      "execution_count": 8,
      "metadata": {
        "id": "dJwJ54UlxMWC",
        "outputId": "c3f5038f-924f-46bf-e97b-395f12b89056",
        "colab": {
          "base_uri": "https://localhost:8080/"
        }
      },
      "outputs": [
        {
          "output_type": "execute_result",
          "data": {
            "text/plain": [
              "{'__globals__': [],\n",
              " '__header__': b'MATLAB 5.0 MAT-file, Platform: GLNXA64, Created on: Thu Oct 20 12:21:53 2016',\n",
              " '__version__': '1.0',\n",
              " 'net': <332x332 sparse matrix of type '<class 'numpy.float64'>'\n",
              " \twith 4252 stored elements in Compressed Sparse Column format>}"
            ]
          },
          "metadata": {},
          "execution_count": 8
        }
      ],
      "source": [
        "data"
      ]
    },
    {
      "cell_type": "markdown",
      "metadata": {
        "id": "9KzzmbFnxMWE"
      },
      "source": [
        "## Create a graph from the adjacency matrix"
      ]
    },
    {
      "cell_type": "code",
      "execution_count": 9,
      "metadata": {
        "id": "7XKpVXF2xMWE"
      },
      "outputs": [],
      "source": [
        "network = nx.from_numpy_matrix(data['net'].todense())"
      ]
    },
    {
      "cell_type": "code",
      "source": [
        "nx.draw(network, with_labels = True)"
      ],
      "metadata": {
        "colab": {
          "base_uri": "https://localhost:8080/",
          "height": 319
        },
        "id": "i6nyugiWBsDB",
        "outputId": "b86e89fa-68b7-4e81-9472-f696c09b7085"
      },
      "execution_count": 10,
      "outputs": [
        {
          "output_type": "display_data",
          "data": {
            "image/png": "[encoded data removed]",
            "text/plain": [
              "<Figure size 432x288 with 1 Axes>"
            ]
          },
          "metadata": {}
        }
      ]
    },
    {
      "cell_type": "code",
      "execution_count": 11,
      "metadata": {
        "id": "5m6QQlMGxMWF",
        "outputId": "1389547a-51be-4ee1-da93-3f06e9e04e20",
        "colab": {
          "base_uri": "https://localhost:8080/"
        }
      },
      "outputs": [
        {
          "output_type": "execute_result",
          "data": {
            "text/plain": [
              "(332, 2126)"
            ]
          },
          "metadata": {},
          "execution_count": 11
        }
      ],
      "source": [
        "shape = network.number_of_nodes(), network.number_of_edges()\n",
        "shape"
      ]
    },
    {
      "cell_type": "markdown",
      "metadata": {
        "id": "hGnIfcHSxMWF"
      },
      "source": [
        "## Dividing the network into the training and test networks"
      ]
    },
    {
      "cell_type": "code",
      "execution_count": 12,
      "metadata": {
        "id": "5ToAWO6cxMWG"
      },
      "outputs": [],
      "source": [
        "network_train = network.copy()\n",
        "network_test = nx.empty_graph(network_train.number_of_nodes())"
      ]
    },
    {
      "cell_type": "code",
      "source": [
        "# empty graph: G = (N number of nodes, 0 edges)\n",
        "nx.draw(network_test, with_labels = True)"
      ],
      "metadata": {
        "colab": {
          "base_uri": "https://localhost:8080/",
          "height": 319
        },
        "id": "fZf5rt7uDsTy",
        "outputId": "555cf185-2366-49d3-e238-c5d690139e64"
      },
      "execution_count": 13,
      "outputs": [
        {
          "output_type": "display_data",
          "data": {
            "image/png": "[encoded data removed]",
            "text/plain": [
              "<Figure size 432x288 with 1 Axes>"
            ]
          },
          "metadata": {}
        }
      ]
    },
    {
      "cell_type": "code",
      "execution_count": 14,
      "metadata": {
        "id": "fCpgnfGuxMWG"
      },
      "outputs": [],
      "source": [
        "# training and testing links given a test ratio\n",
        "test_ratio = 0.1\n",
        "n_links = network_train.number_of_edges()\n",
        "n_links_test = math.ceil(test_ratio * n_links)"
      ]
    },
    {
      "cell_type": "code",
      "execution_count": 15,
      "metadata": {
        "id": "WL6p_QthxMWH",
        "outputId": "c43322f7-5334-405b-f94f-5fee852e8b06",
        "colab": {
          "base_uri": "https://localhost:8080/"
        }
      },
      "outputs": [
        {
          "output_type": "execute_result",
          "data": {
            "text/plain": [
              "(2126, 213)"
            ]
          },
          "metadata": {},
          "execution_count": 15
        }
      ],
      "source": [
        "n_links, n_links_test"
      ]
    },
    {
      "cell_type": "code",
      "execution_count": 16,
      "metadata": {
        "id": "xZYk-MS7xMWH",
        "colab": {
          "base_uri": "https://localhost:8080/"
        },
        "outputId": "026a9a81-cdab-4326-b58e-159d02ef0ce1"
      },
      "outputs": [
        {
          "output_type": "execute_result",
          "data": {
            "text/plain": [
              "array([1672, 1820,    8, 2029,  957,  890, 1657, 1077, 1997,  824,  277,\n",
              "        442,   38,  946, 1983,  167, 1227, 1565, 1172,  133, 1072,  992,\n",
              "       1854,  259, 1886,  387, 1028, 1279,  432, 1825,  107,   78,  694,\n",
              "       1244, 1909, 1682,  306,  877,  850,  788, 1914,  727, 1990, 1698,\n",
              "        325, 1319, 2123,  534, 1904, 1371, 1833,  976,  657,  667, 1048,\n",
              "        831, 1778, 1627, 1026, 1855, 1848, 1423,  344, 1569, 1380, 2020,\n",
              "        462,  551, 1237,  980, 1699, 1805,   36, 1787, 1216, 1329,   79,\n",
              "        130, 1144, 1633,  251, 2088,  207,  949, 1942, 1082,  912,  579,\n",
              "       1112,  611, 1503,  828,   81, 1488,   13,  765, 1148,  712,  195,\n",
              "       1190,  665,  653,  873,  726, 1989,  437, 2004,   70, 1273,  819,\n",
              "        246,  257, 1993, 2092, 1417, 1979,  339,  450,  237, 1701,  460,\n",
              "       1685,  720,  848,  812, 1270, 1241, 1733,  532, 1881, 1385,  223,\n",
              "       2097,  508, 1438,  806,  718,  840,  640, 1419, 2002,   62,  363,\n",
              "        977, 1161, 1143,  333,  743,  923,  425, 1885,  354, 1001, 1209,\n",
              "         11, 1621,  862,  493,  568,  148,  522,  633, 2000,  367,  933,\n",
              "        961, 1311,  187, 1433, 1566,  236,  331,  488, 1712,  136,  483,\n",
              "        410,  127, 1214,  811, 1723,  662,  374, 1170, 1394, 1461, 1189,\n",
              "       2001, 2058,  830,  742, 1548,  518, 1166,  814, 1367, 1932,  151,\n",
              "       1540,  944,  487,  516, 2034, 1471,  911, 1521, 1310, 1440, 1335,\n",
              "       1066,  642,  415,  364])"
            ]
          },
          "metadata": {},
          "execution_count": 16
        }
      ],
      "source": [
        "selected_links_id = np.random.choice(np.arange(n_links), size=n_links_test, replace=False)\n",
        "selected_links_id"
      ]
    },
    {
      "cell_type": "code",
      "execution_count": 17,
      "metadata": {
        "id": "pLr_HNJCxMWH",
        "colab": {
          "base_uri": "https://localhost:8080/"
        },
        "outputId": "79d03962-29c0-4a8c-b6f7-c227daab3b1a"
      },
      "outputs": [
        {
          "output_type": "execute_result",
          "data": {
            "text/plain": [
              "2126"
            ]
          },
          "metadata": {},
          "execution_count": 17
        }
      ],
      "source": [
        "# Return the upper triangular portion of a matrix in sparse format\n",
        "# whose values are non zero\n",
        "network_adj_matrix = nx.adjacency_matrix(network)\n",
        "network_adj_matrix = scipy.sparse.triu(network_adj_matrix, k=1)\n",
        "row_index, col_index = network_adj_matrix.nonzero()\n",
        "links = [(x, y) for x, y in zip(row_index, col_index)]\n",
        "len(links)"
      ]
    },
    {
      "cell_type": "code",
      "execution_count": 18,
      "metadata": {
        "id": "-6ravPWYxMWI"
      },
      "outputs": [],
      "source": [
        "# train and testing sets of links\n",
        "selected_links = []\n",
        "for link_id in selected_links_id:\n",
        "    selected_links.append(links[link_id])\n",
        "network_train.remove_edges_from(selected_links)\n",
        "network_test.add_edges_from(selected_links)"
      ]
    },
    {
      "cell_type": "code",
      "execution_count": 19,
      "metadata": {
        "id": "E1ZFiOmQxMWI",
        "outputId": "44460225-4cc0-4aa3-80db-b86c97adb204",
        "colab": {
          "base_uri": "https://localhost:8080/"
        }
      },
      "outputs": [
        {
          "output_type": "execute_result",
          "data": {
            "text/plain": [
              "(1913, 213)"
            ]
          },
          "metadata": {},
          "execution_count": 19
        }
      ],
      "source": [
        "network_train.number_of_edges(), network_test.number_of_edges()"
      ]
    },
    {
      "cell_type": "markdown",
      "metadata": {
        "id": "Wun1Q8v5xMWJ"
      },
      "source": [
        "## Sampling negative links\n",
        "\n",
        "Recall that positive links are all edges $e \\in E$, whereas \n",
        "negative links are those pairs of $x, y \\in V \\notin E$.   \n",
        "Here, we will select all positive links and then randomly select $k|E|$ negative samples."
      ]
    },
    {
      "cell_type": "code",
      "execution_count": 20,
      "metadata": {
        "id": "iPPiQmQvxMWJ"
      },
      "outputs": [],
      "source": [
        "k = 2\n",
        "n_links_train_pos = network_train.number_of_edges()\n",
        "n_links_test_pos = network_test.number_of_edges()\n",
        "n_links_train_neg = k * n_links_train_pos\n",
        "n_links_test_neg = k * n_links_test_pos"
      ]
    },
    {
      "cell_type": "code",
      "execution_count": 21,
      "metadata": {
        "id": "_eXSrZ_TxMWJ"
      },
      "outputs": [],
      "source": [
        "neg_network = nx.empty_graph(network.number_of_nodes())\n",
        "links_neg = list(nx.non_edges(network))\n",
        "neg_network.add_edges_from(links_neg)"
      ]
    },
    {
      "cell_type": "code",
      "execution_count": 22,
      "metadata": {
        "id": "SGz8NYv2xMWJ",
        "outputId": "fedc6cda-795b-4094-ee21-2f66118a9bb6",
        "colab": {
          "base_uri": "https://localhost:8080/"
        }
      },
      "outputs": [
        {
          "output_type": "execute_result",
          "data": {
            "text/plain": [
              "52820"
            ]
          },
          "metadata": {},
          "execution_count": 22
        }
      ],
      "source": [
        "n_links_neg = neg_network.number_of_edges()\n",
        "n_links_neg"
      ]
    },
    {
      "cell_type": "code",
      "execution_count": 23,
      "metadata": {
        "id": "IFUCOktgxMWK",
        "colab": {
          "base_uri": "https://localhost:8080/"
        },
        "outputId": "f5c9b748-d46d-4b46-8f5a-be250e4773b1"
      },
      "outputs": [
        {
          "output_type": "execute_result",
          "data": {
            "text/plain": [
              "4252"
            ]
          },
          "metadata": {},
          "execution_count": 23
        }
      ],
      "source": [
        "selected_links_neg_id = np.random.choice(np.arange(n_links_neg), size=n_links_train_neg + n_links_test_neg, replace=False)\n",
        "len(selected_links_neg_id)"
      ]
    },
    {
      "cell_type": "code",
      "execution_count": 24,
      "metadata": {
        "id": "8YG1vN_fxMWK"
      },
      "outputs": [],
      "source": [
        "neg_network_train = nx.empty_graph(network.number_of_nodes())\n",
        "neg_network_test = nx.empty_graph(network.number_of_nodes())"
      ]
    },
    {
      "cell_type": "code",
      "execution_count": 25,
      "metadata": {
        "id": "FLl39iSXxMWK"
      },
      "outputs": [],
      "source": [
        "selected_links = []\n",
        "for i in range(n_links_train_neg):\n",
        "    link_id = selected_links_neg_id[i]\n",
        "    selected_links.append(links_neg[link_id])\n",
        "neg_network_train.add_edges_from(selected_links)\n",
        "\n",
        "selected_links = []\n",
        "for i in range(n_links_train_neg, n_links_train_neg + n_links_test_neg):\n",
        "    link_id = selected_links_neg_id[i]\n",
        "    selected_links.append(links_neg[link_id])\n",
        "neg_network_test.add_edges_from(selected_links)"
      ]
    },
    {
      "cell_type": "code",
      "execution_count": 26,
      "metadata": {
        "id": "GO38ekbbxMWK",
        "outputId": "d2a827c8-bc25-432d-ce18-38af6d5a6949",
        "colab": {
          "base_uri": "https://localhost:8080/"
        }
      },
      "outputs": [
        {
          "output_type": "execute_result",
          "data": {
            "text/plain": [
              "(332, 332)"
            ]
          },
          "metadata": {},
          "execution_count": 26
        }
      ],
      "source": [
        "neg_network_train.number_of_nodes(), neg_network_test.number_of_nodes()"
      ]
    },
    {
      "cell_type": "code",
      "execution_count": 27,
      "metadata": {
        "id": "K33UbsvTxMWL",
        "outputId": "75165cd4-4643-42cd-ebb6-af761e8139c4",
        "colab": {
          "base_uri": "https://localhost:8080/"
        }
      },
      "outputs": [
        {
          "output_type": "execute_result",
          "data": {
            "text/plain": [
              "(3826, 426)"
            ]
          },
          "metadata": {},
          "execution_count": 27
        }
      ],
      "source": [
        "neg_network_train.number_of_edges(), neg_network_test.number_of_edges()"
      ]
    },
    {
      "cell_type": "markdown",
      "metadata": {
        "id": "xA21lZq5xMWL"
      },
      "source": [
        "## Grouping training and test links"
      ]
    },
    {
      "cell_type": "code",
      "execution_count": 28,
      "metadata": {
        "id": "t01bgnAQxMWL"
      },
      "outputs": [],
      "source": [
        "all_links_train = list(network_train.edges) + list(neg_network_train.edges)\n",
        "label_train = [1] * len(network_train.edges) + [0] * len(neg_network_train.edges)"
      ]
    },
    {
      "cell_type": "code",
      "execution_count": 29,
      "metadata": {
        "id": "U3UxO5NHxMWM"
      },
      "outputs": [],
      "source": [
        "all_links_test = list(network_test.edges) + list(neg_network_test.edges)\n",
        "label_test = [1] * len(network_test.edges) + [0] * len(neg_network_test.edges)"
      ]
    },
    {
      "cell_type": "code",
      "execution_count": 30,
      "metadata": {
        "id": "byDcnTuTxMWM"
      },
      "outputs": [],
      "source": [
        "y_train, y_test = np.array(label_train), np.array(label_test)"
      ]
    },
    {
      "cell_type": "markdown",
      "metadata": {
        "id": "0a40s5QXxMWM"
      },
      "source": [
        "## Extracting enclosing subgraph for each links"
      ]
    },
    {
      "cell_type": "code",
      "execution_count": 31,
      "metadata": {
        "id": "-G6GBY0xxMWM",
        "outputId": "49084b01-c8ea-4e5c-f33f-0787ef3596b1",
        "colab": {
          "base_uri": "https://localhost:8080/"
        }
      },
      "outputs": [
        {
          "output_type": "execute_result",
          "data": {
            "text/plain": [
              "(6, 12)"
            ]
          },
          "metadata": {},
          "execution_count": 31
        }
      ],
      "source": [
        "link = all_links_train[12]\n",
        "link"
      ]
    },
    {
      "cell_type": "code",
      "execution_count": 32,
      "metadata": {
        "id": "v3mBmlYjxMWM"
      },
      "outputs": [],
      "source": [
        "fringe = [link]\n",
        "subgraph = nx.Graph()"
      ]
    },
    {
      "cell_type": "code",
      "execution_count": 33,
      "metadata": {
        "id": "TpVtj9lMxMWN"
      },
      "outputs": [],
      "source": [
        "def enclosing_subgraph(fringe, network, subgraph, distance):\n",
        "    neighbor_links = []\n",
        "    for link in fringe:\n",
        "        u = link[0]\n",
        "        v = link[1]\n",
        "        neighbor_links = neighbor_links + list(network.edges(u))\n",
        "        neighbor_links = neighbor_links + list(network.edges(v))\n",
        "    tmp_subgraph = subgraph.copy()\n",
        "    tmp_subgraph.add_edges_from(neighbor_links)\n",
        "    # Remove duplicate and _existed_ edge\n",
        "    neighbor_links = [li for li in tmp_subgraph.edges() if li not in subgraph.edges()]\n",
        "    tmp_subgraph = subgraph.copy()\n",
        "    tmp_subgraph.add_edges_from(neighbor_links, distance=distance, inverse_distance=1/distance)\n",
        "    return neighbor_links, tmp_subgraph"
      ]
    },
    {
      "cell_type": "code",
      "execution_count": 34,
      "metadata": {
        "id": "9KC-vMjExMWN",
        "outputId": "3c290528-c498-441c-c9cc-f4c3e47c9af4",
        "colab": {
          "base_uri": "https://localhost:8080/",
          "height": 319
        }
      },
      "outputs": [
        {
          "output_type": "display_data",
          "data": {
            "image/png": "[encoded data removed]",
            "text/plain": [
              "<Figure size 432x288 with 1 Axes>"
            ]
          },
          "metadata": {}
        }
      ],
      "source": [
        "# 1-hop -> distance 1\n",
        "fringe, subgraph = enclosing_subgraph(fringe, network_train, subgraph, distance=1)\n",
        "nx.draw(subgraph, with_labels=True);"
      ]
    },
    {
      "cell_type": "code",
      "execution_count": 35,
      "metadata": {
        "id": "SaKcSAJ_xMWN"
      },
      "outputs": [],
      "source": [
        "def extract_enclosing_subgraph(link, network, size=10):\n",
        "    fringe = [link]\n",
        "    subgraph = nx.Graph()\n",
        "    distance = 0\n",
        "    subgraph.add_edge(link[0], link[1], distance=distance)\n",
        "    while subgraph.number_of_nodes() < size and len(fringe) > 0:\n",
        "        distance += 1\n",
        "        fringe, subgraph = enclosing_subgraph(fringe, network, subgraph, distance)\n",
        "    \n",
        "    tmp_subgraph = network.subgraph(subgraph.nodes)\n",
        "    additional_edges = [li for li in tmp_subgraph.edges if li not in subgraph.edges]\n",
        "    subgraph.add_edges_from(additional_edges, distance=distance+1, inverse_distance=1/(distance+1))\n",
        "    return subgraph"
      ]
    },
    {
      "cell_type": "code",
      "execution_count": 36,
      "metadata": {
        "id": "oQrZHEdpxMWO",
        "outputId": "5232241c-7021-45b6-831e-012e670b69b5",
        "colab": {
          "base_uri": "https://localhost:8080/",
          "height": 319
        }
      },
      "outputs": [
        {
          "output_type": "display_data",
          "data": {
            "image/png": "[encoded data removed]",
            "text/plain": [
              "<Figure size 432x288 with 1 Axes>"
            ]
          },
          "metadata": {}
        }
      ],
      "source": [
        "e_subgraph = extract_enclosing_subgraph(link, network_train)\n",
        "nx.draw(e_subgraph, with_labels=True)"
      ]
    },
    {
      "cell_type": "code",
      "execution_count": 37,
      "metadata": {
        "id": "xjh_m7htxMWO",
        "outputId": "2015ed92-1ff9-4789-e00c-01428e66ef58",
        "colab": {
          "base_uri": "https://localhost:8080/"
        }
      },
      "outputs": [
        {
          "output_type": "execute_result",
          "data": {
            "text/plain": [
              "AtlasView({12: {'distance': 0}, 7: {'distance': 1, 'inverse_distance': 1.0}})"
            ]
          },
          "metadata": {},
          "execution_count": 37
        }
      ],
      "source": [
        "e_subgraph[6]"
      ]
    },
    {
      "cell_type": "code",
      "execution_count": 35,
      "metadata": {
        "id": "VSrr-75AxMWO",
        "outputId": "f9333be1-7053-445f-c546-09c2e09086c5",
        "colab": {
          "base_uri": "https://localhost:8080/"
        }
      },
      "outputs": [
        {
          "output_type": "stream",
          "name": "stdout",
          "text": [
            "1000 loops, best of 5: 276 µs per loop\n"
          ]
        }
      ],
      "source": [
        "%%timeit\n",
        "extract_enclosing_subgraph(link, network_train)"
      ]
    },
    {
      "cell_type": "code",
      "execution_count": 36,
      "metadata": {
        "id": "pp-CCPXVxMWO",
        "outputId": "1b802a03-c449-4964-83bf-fad0062e7098",
        "colab": {
          "base_uri": "https://localhost:8080/"
        }
      },
      "outputs": [
        {
          "output_type": "stream",
          "name": "stdout",
          "text": [
            "1 loop, best of 5: 26.2 s per loop\n"
          ]
        }
      ],
      "source": [
        "%%timeit\n",
        "for link in all_links_train:\n",
        "    e_subgraph = extract_enclosing_subgraph(link, network_train)"
      ]
    },
    {
      "cell_type": "markdown",
      "metadata": {
        "id": "6xFRSV8QxMWO"
      },
      "source": [
        "## Subgraph encoding\n",
        "### Palette-WL for vertex ordering"
      ]
    },
    {
      "cell_type": "code",
      "execution_count": 38,
      "metadata": {
        "id": "NhDJku7CxMWP"
      },
      "outputs": [],
      "source": [
        "def compute_geometric_mean_distance(subgraph, link):\n",
        "    u = link[0]\n",
        "    v = link[1]\n",
        "    subgraph.remove_edge(u, v)\n",
        "    \n",
        "    n_nodes = subgraph.number_of_nodes()\n",
        "    u_reachable = nx.descendants(subgraph, source=u)\n",
        "    v_reachable = nx.descendants(subgraph, source=v)\n",
        "#     print(u_reachable, v_reachable)\n",
        "    for node in subgraph.nodes:\n",
        "        distance_to_u = 0\n",
        "        distance_to_v = 0\n",
        "        if node != u:\n",
        "            distance_to_u = nx.shortest_path_length(subgraph, source=node, target=u) if node in u_reachable else 2 ** n_nodes\n",
        "        if node != v:\n",
        "            distance_to_v = nx.shortest_path_length(subgraph, source=node, target=v) if node in v_reachable else 2 ** n_nodes\n",
        "        subgraph.nodes[node]['avg_dist'] = math.sqrt(distance_to_u * distance_to_v)\n",
        "    \n",
        "    subgraph.add_edge(u, v, distance=0)\n",
        "    \n",
        "    return subgraph"
      ]
    },
    {
      "cell_type": "code",
      "execution_count": 39,
      "metadata": {
        "id": "UeiyV_xqxMWP"
      },
      "outputs": [],
      "source": [
        "e_subgraph = compute_geometric_mean_distance(e_subgraph, link)"
      ]
    },
    {
      "cell_type": "code",
      "execution_count": 40,
      "metadata": {
        "id": "MzwnnOUUxMWP",
        "outputId": "88a5f960-a940-4406-bf18-1169a83dc530",
        "colab": {
          "base_uri": "https://localhost:8080/"
        }
      },
      "outputs": [
        {
          "output_type": "execute_result",
          "data": {
            "text/plain": [
              "{6: 0.0,\n",
              " 7: 1.0,\n",
              " 8: 1.7320508075688772,\n",
              " 9: 1.7320508075688772,\n",
              " 10: 1.7320508075688772,\n",
              " 11: 1.7320508075688772,\n",
              " 12: 0.0,\n",
              " 13: 1.7320508075688772,\n",
              " 14: 1.7320508075688772,\n",
              " 16: 1.7320508075688772,\n",
              " 17: 1.7320508075688772,\n",
              " 18: 1.7320508075688772,\n",
              " 19: 1.7320508075688772,\n",
              " 20: 1.7320508075688772}"
            ]
          },
          "metadata": {},
          "execution_count": 40
        }
      ],
      "source": [
        "avg_dist = nx.get_node_attributes(e_subgraph, 'avg_dist')\n",
        "avg_dist"
      ]
    },
    {
      "cell_type": "code",
      "execution_count": 41,
      "metadata": {
        "id": "JcYmx-pfxMWP"
      },
      "outputs": [],
      "source": [
        "def prime(x):\n",
        "    if x < 2:\n",
        "        return False\n",
        "    if x == 2 or x == 3:\n",
        "        return True\n",
        "    for i in range(2, x):\n",
        "        if x % i == 0:\n",
        "            return False\n",
        "    return True"
      ]
    },
    {
      "cell_type": "code",
      "execution_count": 42,
      "metadata": {
        "id": "KvcjK9k9xMWP",
        "colab": {
          "base_uri": "https://localhost:8080/"
        },
        "outputId": "946ae495-d339-42e3-fefd-c445e0cbc38b"
      },
      "outputs": [
        {
          "output_type": "execute_result",
          "data": {
            "text/plain": [
              "array([   2,    3,    5, ..., 9949, 9967, 9973])"
            ]
          },
          "metadata": {},
          "execution_count": 42
        }
      ],
      "source": [
        "prime_numbers = np.array([i for i in range (10000) if prime(i)], dtype=np.int)\n",
        "prime_numbers"
      ]
    },
    {
      "cell_type": "code",
      "execution_count": 43,
      "metadata": {
        "id": "rune1RjixMWP",
        "outputId": "e65ca799-208a-4152-f44c-8529feef4aa0",
        "colab": {
          "base_uri": "https://localhost:8080/"
        }
      },
      "outputs": [
        {
          "output_type": "execute_result",
          "data": {
            "text/plain": [
              "(1229,)"
            ]
          },
          "metadata": {},
          "execution_count": 43
        }
      ],
      "source": [
        "prime_numbers.shape"
      ]
    },
    {
      "cell_type": "code",
      "execution_count": 44,
      "metadata": {
        "id": "hYOmLOnHxMWP"
      },
      "outputs": [],
      "source": [
        "def palette_wl(subgraph, link):\n",
        "    tmp_subgraph = subgraph.copy()\n",
        "    if tmp_subgraph.has_edge(link[0], link[1]):\n",
        "        tmp_subgraph.remove_edge(link[0], link[1])\n",
        "    avg_dist = nx.get_node_attributes(tmp_subgraph, 'avg_dist')\n",
        "    \n",
        "    df = pd.DataFrame.from_dict(avg_dist, orient='index', columns=['hash_value'])\n",
        "    df = df.sort_index()\n",
        "    df['order'] = df['hash_value'].rank(axis=0, method='min').astype(np.int)\n",
        "    df['previous_order'] = np.zeros(df.shape[0], dtype=np.int)\n",
        "    adj_matrix = nx.adjacency_matrix(tmp_subgraph, nodelist=sorted(tmp_subgraph.nodes)).todense()\n",
        "    while any(df.order != df.previous_order):\n",
        "        df['log_prime'] = np.log(prime_numbers[df['order'].values])\n",
        "        total_log_primes = np.ceil(np.sum(df.log_prime.values))\n",
        "        df['hash_value'] = adj_matrix * df.log_prime.values.reshape(-1, 1) / total_log_primes + df.order.values.reshape(-1, 1)\n",
        "        df.previous_order = df.order\n",
        "        df.order = df.hash_value.rank(axis=0, method='min').astype(np.int)\n",
        "    nodelist = df.order.sort_values().index.values\n",
        "    return nodelist"
      ]
    },
    {
      "cell_type": "code",
      "execution_count": 45,
      "metadata": {
        "id": "WzCHR0_zxMWQ",
        "outputId": "2eeccafa-84a0-4609-ad34-2bf7937f7e62",
        "colab": {
          "base_uri": "https://localhost:8080/"
        }
      },
      "outputs": [
        {
          "output_type": "execute_result",
          "data": {
            "text/plain": [
              "array([ 6, 12,  7, 13, 14, 17, 20,  8,  9, 10, 11, 16, 18, 19])"
            ]
          },
          "metadata": {},
          "execution_count": 45
        }
      ],
      "source": [
        "nodelist = palette_wl(e_subgraph, link)\n",
        "nodelist"
      ]
    },
    {
      "cell_type": "code",
      "execution_count": 46,
      "metadata": {
        "id": "FwYrInzUxMWQ"
      },
      "outputs": [],
      "source": [
        "size = 10\n",
        "if len(nodelist) > size:\n",
        "    nodelist = nodelist[:size]\n",
        "    e_subgraph = e_subgraph.subgraph(nodelist)\n",
        "    nodelist = palette_wl(e_subgraph, link)"
      ]
    },
    {
      "cell_type": "code",
      "execution_count": 47,
      "metadata": {
        "id": "9nLOeUdTxMWQ",
        "outputId": "1ba49279-bcd4-47b4-c98a-91809b721323",
        "colab": {
          "base_uri": "https://localhost:8080/"
        }
      },
      "outputs": [
        {
          "output_type": "execute_result",
          "data": {
            "text/plain": [
              "array([ 6, 12,  7, 13, 14, 17, 20,  8,  9, 10])"
            ]
          },
          "metadata": {},
          "execution_count": 47
        }
      ],
      "source": [
        "nodelist"
      ]
    },
    {
      "cell_type": "code",
      "execution_count": 48,
      "metadata": {
        "id": "GgfRm9TWxMWQ",
        "outputId": "0a63ac1a-f4b0-499e-9876-863f248c9231",
        "colab": {
          "base_uri": "https://localhost:8080/",
          "height": 319
        }
      },
      "outputs": [
        {
          "output_type": "display_data",
          "data": {
            "image/png": "[encoded data removed]",
            "text/plain": [
              "<Figure size 432x288 with 1 Axes>"
            ]
          },
          "metadata": {}
        }
      ],
      "source": [
        "nx.draw(e_subgraph, with_labels=True);"
      ]
    },
    {
      "cell_type": "code",
      "execution_count": 49,
      "metadata": {
        "id": "u5eE8DyxxMWQ",
        "outputId": "9860b679-2243-499f-bdb1-27f10a5b914c",
        "colab": {
          "base_uri": "https://localhost:8080/"
        }
      },
      "outputs": [
        {
          "output_type": "execute_result",
          "data": {
            "text/plain": [
              "{'avg_dist': 1.0}"
            ]
          },
          "metadata": {},
          "execution_count": 49
        }
      ],
      "source": [
        "e_subgraph.nodes[7]"
      ]
    },
    {
      "cell_type": "markdown",
      "metadata": {
        "id": "POR3hXiWxMWQ"
      },
      "source": [
        "### Represent enclosing subgraphs as adjacency matrices"
      ]
    },
    {
      "cell_type": "code",
      "execution_count": 50,
      "metadata": {
        "id": "LYzo-ikTxMWR"
      },
      "outputs": [],
      "source": [
        "def sample(subgraph, nodelist, weight='weight', size=10):\n",
        "    adj_matrix = nx.adjacency_matrix(subgraph, weight=weight, nodelist=nodelist).todense()\n",
        "    vector = np.asarray(adj_matrix)[np.triu_indices(len(adj_matrix), k=1)]\n",
        "    d = size * (size - 1) // 2\n",
        "    if len(vector) < d:\n",
        "        vector = np.append(vector, np.zeros(d - len(vector)))\n",
        "    return vector[1:]"
      ]
    },
    {
      "cell_type": "code",
      "execution_count": 51,
      "metadata": {
        "id": "HJ6LNcwjxMWR",
        "outputId": "f442d51d-0ba8-4301-ed08-f451d71f1a74",
        "colab": {
          "base_uri": "https://localhost:8080/"
        }
      },
      "outputs": [
        {
          "output_type": "execute_result",
          "data": {
            "text/plain": [
              "array([1, 0, 0, 0, 0, 0, 0, 0, 1, 1, 1, 1, 1, 1, 1, 1, 0, 0, 0, 0, 0, 0,\n",
              "       0, 0, 0, 0, 0, 0, 0, 0, 0, 0, 0, 0, 0, 0, 0, 0, 0, 0, 0, 0, 1, 1],\n",
              "      dtype=int64)"
            ]
          },
          "metadata": {},
          "execution_count": 51
        }
      ],
      "source": [
        "sample(e_subgraph, nodelist, size=10)"
      ]
    },
    {
      "cell_type": "markdown",
      "metadata": {
        "id": "qdBGHeIMxMWR"
      },
      "source": [
        "### Subgraph encoding test"
      ]
    },
    {
      "cell_type": "code",
      "execution_count": 52,
      "metadata": {
        "id": "PlWQlRyMxMWR",
        "outputId": "1e7f0118-5104-4f76-e773-6dc0dae50210",
        "colab": {
          "base_uri": "https://localhost:8080/"
        }
      },
      "outputs": [
        {
          "output_type": "execute_result",
          "data": {
            "text/plain": [
              "(6, 12)"
            ]
          },
          "metadata": {},
          "execution_count": 52
        }
      ],
      "source": [
        "link"
      ]
    },
    {
      "cell_type": "code",
      "execution_count": 53,
      "metadata": {
        "id": "B3MtbZUuxMWR"
      },
      "outputs": [],
      "source": [
        "e_subgraph = extract_enclosing_subgraph(link, network_train, size=10)\n",
        "e_subgraph = compute_geometric_mean_distance(e_subgraph, link)\n",
        "nodelist = palette_wl(e_subgraph, link)\n",
        "if len(nodelist) > size:\n",
        "    nodelist = nodelist[:size]\n",
        "    e_subgraph = e_subgraph.subgraph(nodelist)\n",
        "    nodelist = palette_wl(e_subgraph, link)\n",
        "embeded = sample(e_subgraph, nodelist, size=10)"
      ]
    },
    {
      "cell_type": "code",
      "execution_count": 54,
      "metadata": {
        "id": "RRMJ1emKxMWR",
        "outputId": "ef885cb5-9ee3-40c6-fe97-365b26998a71",
        "colab": {
          "base_uri": "https://localhost:8080/"
        }
      },
      "outputs": [
        {
          "output_type": "execute_result",
          "data": {
            "text/plain": [
              "array([1, 0, 0, 0, 0, 0, 0, 0, 1, 1, 1, 1, 1, 1, 1, 1, 0, 0, 0, 0, 0, 0,\n",
              "       0, 0, 0, 0, 0, 0, 0, 0, 0, 0, 0, 0, 0, 0, 0, 0, 0, 0, 0, 0, 1, 1],\n",
              "      dtype=int64)"
            ]
          },
          "metadata": {},
          "execution_count": 54
        }
      ],
      "source": [
        "embeded"
      ]
    },
    {
      "cell_type": "markdown",
      "metadata": {
        "id": "0aOG3SzCxMWS"
      },
      "source": [
        "## Enclosing subgraph encoding for each links"
      ]
    },
    {
      "cell_type": "code",
      "execution_count": 55,
      "metadata": {
        "id": "X1CO4tTYxMWS"
      },
      "outputs": [],
      "source": [
        "def encode_link(link, network, weight='weight', size=10):\n",
        "    e_subgraph = extract_enclosing_subgraph(link, network, size=size)\n",
        "    e_subgraph = compute_geometric_mean_distance(e_subgraph, link)\n",
        "    nodelist = palette_wl(e_subgraph, link)\n",
        "    if len(nodelist) > size:\n",
        "        nodelist = nodelist[:size]\n",
        "        e_subgraph = e_subgraph.subgraph(nodelist)\n",
        "        nodelist = palette_wl(e_subgraph, link)\n",
        "    embeded_link = sample(e_subgraph, nodelist, weight=weight, size=size)\n",
        "    return embeded_link"
      ]
    },
    {
      "cell_type": "code",
      "execution_count": 56,
      "metadata": {
        "id": "iYj0bn1lxMWS"
      },
      "outputs": [],
      "source": [
        "from functools import partial"
      ]
    },
    {
      "cell_type": "code",
      "execution_count": 56,
      "metadata": {
        "id": "KUzjtmz2xMWS",
        "outputId": "35946813-b20b-4f51-8e98-c4e7f232fe0b",
        "colab": {
          "base_uri": "https://localhost:8080/"
        }
      },
      "outputs": [
        {
          "output_type": "stream",
          "name": "stdout",
          "text": [
            "1 loop, best of 5: 2min 39s per loop\n"
          ]
        }
      ],
      "source": [
        "%%timeit\n",
        "np.array(list(map(partial(encode_link, network=network_train, weight='inverse_distance', size=10), all_links_train)))"
      ]
    },
    {
      "cell_type": "code",
      "execution_count": 57,
      "metadata": {
        "id": "X3FPJ0ESxMWS"
      },
      "outputs": [],
      "source": [
        "X_train = np.array(list(map(partial(encode_link, network=network_train, weight='weight', size=10), all_links_train)))"
      ]
    },
    {
      "cell_type": "code",
      "execution_count": 58,
      "metadata": {
        "id": "2MiauU4ZxMWS",
        "outputId": "2ee45d30-b9e8-441b-9e7e-895e3024e5a4",
        "colab": {
          "base_uri": "https://localhost:8080/"
        }
      },
      "outputs": [
        {
          "output_type": "execute_result",
          "data": {
            "text/plain": [
              "(5739, 44)"
            ]
          },
          "metadata": {},
          "execution_count": 58
        }
      ],
      "source": [
        "X_train.shape"
      ]
    },
    {
      "cell_type": "code",
      "execution_count": 59,
      "metadata": {
        "id": "YaPsZRjUxMWS"
      },
      "outputs": [],
      "source": [
        "X_test = np.array(list(map(partial(encode_link, network=network_train, weight='weight', size=10), all_links_test)))"
      ]
    },
    {
      "cell_type": "code",
      "execution_count": 60,
      "metadata": {
        "id": "sqjlbMNHxMWT"
      },
      "outputs": [],
      "source": [
        "from sklearn.utils import shuffle\n",
        "X_train_shuffle, y_train_shuffle = shuffle(X_train, y_train)"
      ]
    },
    {
      "cell_type": "code",
      "execution_count": 61,
      "metadata": {
        "id": "qpHdf4_rxMWT",
        "outputId": "65dd59a2-226c-474c-da96-8f894c1f01f4",
        "colab": {
          "base_uri": "https://localhost:8080/"
        }
      },
      "outputs": [
        {
          "output_type": "execute_result",
          "data": {
            "text/plain": [
              "((5739, 44), (5739,))"
            ]
          },
          "metadata": {},
          "execution_count": 61
        }
      ],
      "source": [
        "X_train_shuffle.shape, y_train.shape"
      ]
    },
    {
      "cell_type": "markdown",
      "metadata": {
        "id": "n8SttUl5xMWT"
      },
      "source": [
        "## Neural Network Learning"
      ]
    },
    {
      "cell_type": "code",
      "execution_count": 62,
      "metadata": {
        "id": "Pi6SbkzrxMWT"
      },
      "outputs": [],
      "source": [
        "from sklearn.neural_network import MLPClassifier\n",
        "from sklearn.model_selection import GridSearchCV"
      ]
    },
    {
      "cell_type": "code",
      "source": [
        "def print_results(results):\n",
        "    print('BEST PARAMS: {}\\n'.format(results.best_params_))\n",
        "\n",
        "    means = results.cv_results_['mean_test_score']\n",
        "    stds = results.cv_results_['std_test_score']\n",
        "    for mean, std, params in zip(means, stds, results.cv_results_['params']):\n",
        "        print('{} (+/-{}) for {}'.format(round(mean, 3), round(std * 2, 3), params))"
      ],
      "metadata": {
        "id": "ZDN_6pFwXBJF"
      },
      "execution_count": 63,
      "outputs": []
    },
    {
      "cell_type": "code",
      "source": [
        "import warnings\n",
        "warnings.filterwarnings('ignore', category=FutureWarning)\n",
        "warnings.filterwarnings('ignore', category=DeprecationWarning)\n",
        "\n",
        "with warnings.catch_warnings():\n",
        "    warnings.simplefilter(\"ignore\")"
      ],
      "metadata": {
        "id": "R232OGVodbrp"
      },
      "execution_count": 67,
      "outputs": []
    },
    {
      "cell_type": "code",
      "source": [
        "mlp = MLPClassifier()\n",
        "parameters = {\n",
        "    'hidden_layer_sizes': [(32, 32, 16), (64, 32, 16), (64, 64, 16)],\n",
        "    'activation': ['relu', 'tanh', 'logistic'],\n",
        "    'learning_rate': ['constant', 'invscaling', 'adaptive'],\n",
        "    'alpha': [1e-3, 1e-6, 1e-9],\n",
        "    'max_iter': [10, 50, 100],\n",
        "    'tol': [0.0001, -10000]\n",
        "}\n",
        "\n",
        "cv = GridSearchCV(mlp, parameters, cv=5)\n",
        "cv.fit(X_train_shuffle, y_train_shuffle)\n",
        "print_results(cv)"
      ],
      "metadata": {
        "colab": {
          "base_uri": "https://localhost:8080/"
        },
        "id": "y3-iNxwAXJSZ",
        "outputId": "18267171-9b97-4f72-9eff-df241bb272c5"
      },
      "execution_count": 94,
      "outputs": [
        {
          "output_type": "stream",
          "name": "stdout",
          "text": [
            "BEST PARAMS: {'activation': 'tanh', 'alpha': 1e-09, 'hidden_layer_sizes': (64, 64, 16), 'learning_rate': 'constant', 'max_iter': 50, 'tol': 0.0001}\n",
            "\n",
            "0.899 (+/-0.007) for {'activation': 'relu', 'alpha': 0.001, 'hidden_layer_sizes': (32, 32, 16), 'learning_rate': 'constant', 'max_iter': 10, 'tol': 0.0001}\n",
            "0.901 (+/-0.012) for {'activation': 'relu', 'alpha': 0.001, 'hidden_layer_sizes': (32, 32, 16), 'learning_rate': 'constant', 'max_iter': 10, 'tol': -10000}\n",
            "0.905 (+/-0.01) for {'activation': 'relu', 'alpha': 0.001, 'hidden_layer_sizes': (32, 32, 16), 'learning_rate': 'constant', 'max_iter': 50, 'tol': 0.0001}\n",
            "0.895 (+/-0.023) for {'activation': 'relu', 'alpha': 0.001, 'hidden_layer_sizes': (32, 32, 16), 'learning_rate': 'constant', 'max_iter': 50, 'tol': -10000}\n",
            "0.89 (+/-0.016) for {'activation': 'relu', 'alpha': 0.001, 'hidden_layer_sizes': (32, 32, 16), 'learning_rate': 'constant', 'max_iter': 100, 'tol': 0.0001}\n",
            "0.893 (+/-0.011) for {'activation': 'relu', 'alpha': 0.001, 'hidden_layer_sizes': (32, 32, 16), 'learning_rate': 'constant', 'max_iter': 100, 'tol': -10000}\n",
            "0.9 (+/-0.009) for {'activation': 'relu', 'alpha': 0.001, 'hidden_layer_sizes': (32, 32, 16), 'learning_rate': 'invscaling', 'max_iter': 10, 'tol': 0.0001}\n",
            "0.898 (+/-0.015) for {'activation': 'relu', 'alpha': 0.001, 'hidden_layer_sizes': (32, 32, 16), 'learning_rate': 'invscaling', 'max_iter': 10, 'tol': -10000}\n",
            "0.903 (+/-0.012) for {'activation': 'relu', 'alpha': 0.001, 'hidden_layer_sizes': (32, 32, 16), 'learning_rate': 'invscaling', 'max_iter': 50, 'tol': 0.0001}\n",
            "0.902 (+/-0.013) for {'activation': 'relu', 'alpha': 0.001, 'hidden_layer_sizes': (32, 32, 16), 'learning_rate': 'invscaling', 'max_iter': 50, 'tol': -10000}\n",
            "0.896 (+/-0.009) for {'activation': 'relu', 'alpha': 0.001, 'hidden_layer_sizes': (32, 32, 16), 'learning_rate': 'invscaling', 'max_iter': 100, 'tol': 0.0001}\n",
            "0.892 (+/-0.013) for {'activation': 'relu', 'alpha': 0.001, 'hidden_layer_sizes': (32, 32, 16), 'learning_rate': 'invscaling', 'max_iter': 100, 'tol': -10000}\n",
            "0.901 (+/-0.007) for {'activation': 'relu', 'alpha': 0.001, 'hidden_layer_sizes': (32, 32, 16), 'learning_rate': 'adaptive', 'max_iter': 10, 'tol': 0.0001}\n",
            "0.901 (+/-0.015) for {'activation': 'relu', 'alpha': 0.001, 'hidden_layer_sizes': (32, 32, 16), 'learning_rate': 'adaptive', 'max_iter': 10, 'tol': -10000}\n",
            "0.899 (+/-0.018) for {'activation': 'relu', 'alpha': 0.001, 'hidden_layer_sizes': (32, 32, 16), 'learning_rate': 'adaptive', 'max_iter': 50, 'tol': 0.0001}\n",
            "0.899 (+/-0.009) for {'activation': 'relu', 'alpha': 0.001, 'hidden_layer_sizes': (32, 32, 16), 'learning_rate': 'adaptive', 'max_iter': 50, 'tol': -10000}\n",
            "0.899 (+/-0.008) for {'activation': 'relu', 'alpha': 0.001, 'hidden_layer_sizes': (32, 32, 16), 'learning_rate': 'adaptive', 'max_iter': 100, 'tol': 0.0001}\n",
            "0.899 (+/-0.013) for {'activation': 'relu', 'alpha': 0.001, 'hidden_layer_sizes': (32, 32, 16), 'learning_rate': 'adaptive', 'max_iter': 100, 'tol': -10000}\n",
            "0.902 (+/-0.007) for {'activation': 'relu', 'alpha': 0.001, 'hidden_layer_sizes': (64, 32, 16), 'learning_rate': 'constant', 'max_iter': 10, 'tol': 0.0001}\n",
            "0.902 (+/-0.015) for {'activation': 'relu', 'alpha': 0.001, 'hidden_layer_sizes': (64, 32, 16), 'learning_rate': 'constant', 'max_iter': 10, 'tol': -10000}\n",
            "0.897 (+/-0.013) for {'activation': 'relu', 'alpha': 0.001, 'hidden_layer_sizes': (64, 32, 16), 'learning_rate': 'constant', 'max_iter': 50, 'tol': 0.0001}\n",
            "0.898 (+/-0.011) for {'activation': 'relu', 'alpha': 0.001, 'hidden_layer_sizes': (64, 32, 16), 'learning_rate': 'constant', 'max_iter': 50, 'tol': -10000}\n",
            "0.891 (+/-0.013) for {'activation': 'relu', 'alpha': 0.001, 'hidden_layer_sizes': (64, 32, 16), 'learning_rate': 'constant', 'max_iter': 100, 'tol': 0.0001}\n",
            "0.893 (+/-0.009) for {'activation': 'relu', 'alpha': 0.001, 'hidden_layer_sizes': (64, 32, 16), 'learning_rate': 'constant', 'max_iter': 100, 'tol': -10000}\n",
            "0.899 (+/-0.009) for {'activation': 'relu', 'alpha': 0.001, 'hidden_layer_sizes': (64, 32, 16), 'learning_rate': 'invscaling', 'max_iter': 10, 'tol': 0.0001}\n",
            "0.902 (+/-0.015) for {'activation': 'relu', 'alpha': 0.001, 'hidden_layer_sizes': (64, 32, 16), 'learning_rate': 'invscaling', 'max_iter': 10, 'tol': -10000}\n",
            "0.905 (+/-0.019) for {'activation': 'relu', 'alpha': 0.001, 'hidden_layer_sizes': (64, 32, 16), 'learning_rate': 'invscaling', 'max_iter': 50, 'tol': 0.0001}\n",
            "0.902 (+/-0.007) for {'activation': 'relu', 'alpha': 0.001, 'hidden_layer_sizes': (64, 32, 16), 'learning_rate': 'invscaling', 'max_iter': 50, 'tol': -10000}\n",
            "0.894 (+/-0.01) for {'activation': 'relu', 'alpha': 0.001, 'hidden_layer_sizes': (64, 32, 16), 'learning_rate': 'invscaling', 'max_iter': 100, 'tol': 0.0001}\n",
            "0.895 (+/-0.01) for {'activation': 'relu', 'alpha': 0.001, 'hidden_layer_sizes': (64, 32, 16), 'learning_rate': 'invscaling', 'max_iter': 100, 'tol': -10000}\n",
            "0.899 (+/-0.011) for {'activation': 'relu', 'alpha': 0.001, 'hidden_layer_sizes': (64, 32, 16), 'learning_rate': 'adaptive', 'max_iter': 10, 'tol': 0.0001}\n",
            "0.902 (+/-0.01) for {'activation': 'relu', 'alpha': 0.001, 'hidden_layer_sizes': (64, 32, 16), 'learning_rate': 'adaptive', 'max_iter': 10, 'tol': -10000}\n",
            "0.896 (+/-0.011) for {'activation': 'relu', 'alpha': 0.001, 'hidden_layer_sizes': (64, 32, 16), 'learning_rate': 'adaptive', 'max_iter': 50, 'tol': 0.0001}\n",
            "0.894 (+/-0.011) for {'activation': 'relu', 'alpha': 0.001, 'hidden_layer_sizes': (64, 32, 16), 'learning_rate': 'adaptive', 'max_iter': 50, 'tol': -10000}\n",
            "0.891 (+/-0.012) for {'activation': 'relu', 'alpha': 0.001, 'hidden_layer_sizes': (64, 32, 16), 'learning_rate': 'adaptive', 'max_iter': 100, 'tol': 0.0001}\n",
            "0.895 (+/-0.014) for {'activation': 'relu', 'alpha': 0.001, 'hidden_layer_sizes': (64, 32, 16), 'learning_rate': 'adaptive', 'max_iter': 100, 'tol': -10000}\n",
            "0.9 (+/-0.008) for {'activation': 'relu', 'alpha': 0.001, 'hidden_layer_sizes': (64, 64, 16), 'learning_rate': 'constant', 'max_iter': 10, 'tol': 0.0001}\n",
            "0.9 (+/-0.009) for {'activation': 'relu', 'alpha': 0.001, 'hidden_layer_sizes': (64, 64, 16), 'learning_rate': 'constant', 'max_iter': 10, 'tol': -10000}\n",
            "0.9 (+/-0.017) for {'activation': 'relu', 'alpha': 0.001, 'hidden_layer_sizes': (64, 64, 16), 'learning_rate': 'constant', 'max_iter': 50, 'tol': 0.0001}\n",
            "0.893 (+/-0.013) for {'activation': 'relu', 'alpha': 0.001, 'hidden_layer_sizes': (64, 64, 16), 'learning_rate': 'constant', 'max_iter': 50, 'tol': -10000}\n",
            "0.89 (+/-0.008) for {'activation': 'relu', 'alpha': 0.001, 'hidden_layer_sizes': (64, 64, 16), 'learning_rate': 'constant', 'max_iter': 100, 'tol': 0.0001}\n",
            "0.885 (+/-0.008) for {'activation': 'relu', 'alpha': 0.001, 'hidden_layer_sizes': (64, 64, 16), 'learning_rate': 'constant', 'max_iter': 100, 'tol': -10000}\n",
            "0.902 (+/-0.017) for {'activation': 'relu', 'alpha': 0.001, 'hidden_layer_sizes': (64, 64, 16), 'learning_rate': 'invscaling', 'max_iter': 10, 'tol': 0.0001}\n",
            "0.904 (+/-0.015) for {'activation': 'relu', 'alpha': 0.001, 'hidden_layer_sizes': (64, 64, 16), 'learning_rate': 'invscaling', 'max_iter': 10, 'tol': -10000}\n",
            "0.893 (+/-0.02) for {'activation': 'relu', 'alpha': 0.001, 'hidden_layer_sizes': (64, 64, 16), 'learning_rate': 'invscaling', 'max_iter': 50, 'tol': 0.0001}\n",
            "0.899 (+/-0.012) for {'activation': 'relu', 'alpha': 0.001, 'hidden_layer_sizes': (64, 64, 16), 'learning_rate': 'invscaling', 'max_iter': 50, 'tol': -10000}\n",
            "0.891 (+/-0.014) for {'activation': 'relu', 'alpha': 0.001, 'hidden_layer_sizes': (64, 64, 16), 'learning_rate': 'invscaling', 'max_iter': 100, 'tol': 0.0001}\n",
            "0.889 (+/-0.01) for {'activation': 'relu', 'alpha': 0.001, 'hidden_layer_sizes': (64, 64, 16), 'learning_rate': 'invscaling', 'max_iter': 100, 'tol': -10000}\n",
            "0.903 (+/-0.014) for {'activation': 'relu', 'alpha': 0.001, 'hidden_layer_sizes': (64, 64, 16), 'learning_rate': 'adaptive', 'max_iter': 10, 'tol': 0.0001}\n",
            "0.903 (+/-0.007) for {'activation': 'relu', 'alpha': 0.001, 'hidden_layer_sizes': (64, 64, 16), 'learning_rate': 'adaptive', 'max_iter': 10, 'tol': -10000}\n",
            "0.892 (+/-0.021) for {'activation': 'relu', 'alpha': 0.001, 'hidden_layer_sizes': (64, 64, 16), 'learning_rate': 'adaptive', 'max_iter': 50, 'tol': 0.0001}\n",
            "0.898 (+/-0.015) for {'activation': 'relu', 'alpha': 0.001, 'hidden_layer_sizes': (64, 64, 16), 'learning_rate': 'adaptive', 'max_iter': 50, 'tol': -10000}\n",
            "0.889 (+/-0.017) for {'activation': 'relu', 'alpha': 0.001, 'hidden_layer_sizes': (64, 64, 16), 'learning_rate': 'adaptive', 'max_iter': 100, 'tol': 0.0001}\n",
            "0.89 (+/-0.005) for {'activation': 'relu', 'alpha': 0.001, 'hidden_layer_sizes': (64, 64, 16), 'learning_rate': 'adaptive', 'max_iter': 100, 'tol': -10000}\n",
            "0.9 (+/-0.009) for {'activation': 'relu', 'alpha': 1e-06, 'hidden_layer_sizes': (32, 32, 16), 'learning_rate': 'constant', 'max_iter': 10, 'tol': 0.0001}\n",
            "0.895 (+/-0.014) for {'activation': 'relu', 'alpha': 1e-06, 'hidden_layer_sizes': (32, 32, 16), 'learning_rate': 'constant', 'max_iter': 10, 'tol': -10000}\n",
            "0.9 (+/-0.022) for {'activation': 'relu', 'alpha': 1e-06, 'hidden_layer_sizes': (32, 32, 16), 'learning_rate': 'constant', 'max_iter': 50, 'tol': 0.0001}\n",
            "0.899 (+/-0.013) for {'activation': 'relu', 'alpha': 1e-06, 'hidden_layer_sizes': (32, 32, 16), 'learning_rate': 'constant', 'max_iter': 50, 'tol': -10000}\n",
            "0.896 (+/-0.012) for {'activation': 'relu', 'alpha': 1e-06, 'hidden_layer_sizes': (32, 32, 16), 'learning_rate': 'constant', 'max_iter': 100, 'tol': 0.0001}\n",
            "0.899 (+/-0.013) for {'activation': 'relu', 'alpha': 1e-06, 'hidden_layer_sizes': (32, 32, 16), 'learning_rate': 'constant', 'max_iter': 100, 'tol': -10000}\n",
            "0.9 (+/-0.012) for {'activation': 'relu', 'alpha': 1e-06, 'hidden_layer_sizes': (32, 32, 16), 'learning_rate': 'invscaling', 'max_iter': 10, 'tol': 0.0001}\n",
            "0.899 (+/-0.008) for {'activation': 'relu', 'alpha': 1e-06, 'hidden_layer_sizes': (32, 32, 16), 'learning_rate': 'invscaling', 'max_iter': 10, 'tol': -10000}\n",
            "0.899 (+/-0.016) for {'activation': 'relu', 'alpha': 1e-06, 'hidden_layer_sizes': (32, 32, 16), 'learning_rate': 'invscaling', 'max_iter': 50, 'tol': 0.0001}\n",
            "0.902 (+/-0.007) for {'activation': 'relu', 'alpha': 1e-06, 'hidden_layer_sizes': (32, 32, 16), 'learning_rate': 'invscaling', 'max_iter': 50, 'tol': -10000}\n",
            "0.893 (+/-0.009) for {'activation': 'relu', 'alpha': 1e-06, 'hidden_layer_sizes': (32, 32, 16), 'learning_rate': 'invscaling', 'max_iter': 100, 'tol': 0.0001}\n",
            "0.901 (+/-0.008) for {'activation': 'relu', 'alpha': 1e-06, 'hidden_layer_sizes': (32, 32, 16), 'learning_rate': 'invscaling', 'max_iter': 100, 'tol': -10000}\n",
            "0.902 (+/-0.012) for {'activation': 'relu', 'alpha': 1e-06, 'hidden_layer_sizes': (32, 32, 16), 'learning_rate': 'adaptive', 'max_iter': 10, 'tol': 0.0001}\n",
            "0.902 (+/-0.013) for {'activation': 'relu', 'alpha': 1e-06, 'hidden_layer_sizes': (32, 32, 16), 'learning_rate': 'adaptive', 'max_iter': 10, 'tol': -10000}\n",
            "0.9 (+/-0.014) for {'activation': 'relu', 'alpha': 1e-06, 'hidden_layer_sizes': (32, 32, 16), 'learning_rate': 'adaptive', 'max_iter': 50, 'tol': 0.0001}\n",
            "0.894 (+/-0.011) for {'activation': 'relu', 'alpha': 1e-06, 'hidden_layer_sizes': (32, 32, 16), 'learning_rate': 'adaptive', 'max_iter': 50, 'tol': -10000}\n",
            "0.894 (+/-0.008) for {'activation': 'relu', 'alpha': 1e-06, 'hidden_layer_sizes': (32, 32, 16), 'learning_rate': 'adaptive', 'max_iter': 100, 'tol': 0.0001}\n",
            "0.893 (+/-0.013) for {'activation': 'relu', 'alpha': 1e-06, 'hidden_layer_sizes': (32, 32, 16), 'learning_rate': 'adaptive', 'max_iter': 100, 'tol': -10000}\n",
            "0.9 (+/-0.013) for {'activation': 'relu', 'alpha': 1e-06, 'hidden_layer_sizes': (64, 32, 16), 'learning_rate': 'constant', 'max_iter': 10, 'tol': 0.0001}\n",
            "0.902 (+/-0.007) for {'activation': 'relu', 'alpha': 1e-06, 'hidden_layer_sizes': (64, 32, 16), 'learning_rate': 'constant', 'max_iter': 10, 'tol': -10000}\n",
            "0.897 (+/-0.018) for {'activation': 'relu', 'alpha': 1e-06, 'hidden_layer_sizes': (64, 32, 16), 'learning_rate': 'constant', 'max_iter': 50, 'tol': 0.0001}\n",
            "0.894 (+/-0.011) for {'activation': 'relu', 'alpha': 1e-06, 'hidden_layer_sizes': (64, 32, 16), 'learning_rate': 'constant', 'max_iter': 50, 'tol': -10000}\n",
            "0.891 (+/-0.015) for {'activation': 'relu', 'alpha': 1e-06, 'hidden_layer_sizes': (64, 32, 16), 'learning_rate': 'constant', 'max_iter': 100, 'tol': 0.0001}\n",
            "0.893 (+/-0.01) for {'activation': 'relu', 'alpha': 1e-06, 'hidden_layer_sizes': (64, 32, 16), 'learning_rate': 'constant', 'max_iter': 100, 'tol': -10000}\n",
            "0.899 (+/-0.009) for {'activation': 'relu', 'alpha': 1e-06, 'hidden_layer_sizes': (64, 32, 16), 'learning_rate': 'invscaling', 'max_iter': 10, 'tol': 0.0001}\n",
            "0.902 (+/-0.011) for {'activation': 'relu', 'alpha': 1e-06, 'hidden_layer_sizes': (64, 32, 16), 'learning_rate': 'invscaling', 'max_iter': 10, 'tol': -10000}\n",
            "0.897 (+/-0.014) for {'activation': 'relu', 'alpha': 1e-06, 'hidden_layer_sizes': (64, 32, 16), 'learning_rate': 'invscaling', 'max_iter': 50, 'tol': 0.0001}\n",
            "0.902 (+/-0.012) for {'activation': 'relu', 'alpha': 1e-06, 'hidden_layer_sizes': (64, 32, 16), 'learning_rate': 'invscaling', 'max_iter': 50, 'tol': -10000}\n",
            "0.896 (+/-0.014) for {'activation': 'relu', 'alpha': 1e-06, 'hidden_layer_sizes': (64, 32, 16), 'learning_rate': 'invscaling', 'max_iter': 100, 'tol': 0.0001}\n",
            "0.894 (+/-0.02) for {'activation': 'relu', 'alpha': 1e-06, 'hidden_layer_sizes': (64, 32, 16), 'learning_rate': 'invscaling', 'max_iter': 100, 'tol': -10000}\n",
            "0.905 (+/-0.013) for {'activation': 'relu', 'alpha': 1e-06, 'hidden_layer_sizes': (64, 32, 16), 'learning_rate': 'adaptive', 'max_iter': 10, 'tol': 0.0001}\n",
            "0.902 (+/-0.008) for {'activation': 'relu', 'alpha': 1e-06, 'hidden_layer_sizes': (64, 32, 16), 'learning_rate': 'adaptive', 'max_iter': 10, 'tol': -10000}\n",
            "0.898 (+/-0.011) for {'activation': 'relu', 'alpha': 1e-06, 'hidden_layer_sizes': (64, 32, 16), 'learning_rate': 'adaptive', 'max_iter': 50, 'tol': 0.0001}\n",
            "0.899 (+/-0.011) for {'activation': 'relu', 'alpha': 1e-06, 'hidden_layer_sizes': (64, 32, 16), 'learning_rate': 'adaptive', 'max_iter': 50, 'tol': -10000}\n",
            "0.898 (+/-0.004) for {'activation': 'relu', 'alpha': 1e-06, 'hidden_layer_sizes': (64, 32, 16), 'learning_rate': 'adaptive', 'max_iter': 100, 'tol': 0.0001}\n",
            "0.896 (+/-0.011) for {'activation': 'relu', 'alpha': 1e-06, 'hidden_layer_sizes': (64, 32, 16), 'learning_rate': 'adaptive', 'max_iter': 100, 'tol': -10000}\n",
            "0.902 (+/-0.011) for {'activation': 'relu', 'alpha': 1e-06, 'hidden_layer_sizes': (64, 64, 16), 'learning_rate': 'constant', 'max_iter': 10, 'tol': 0.0001}\n",
            "0.904 (+/-0.01) for {'activation': 'relu', 'alpha': 1e-06, 'hidden_layer_sizes': (64, 64, 16), 'learning_rate': 'constant', 'max_iter': 10, 'tol': -10000}\n",
            "0.895 (+/-0.007) for {'activation': 'relu', 'alpha': 1e-06, 'hidden_layer_sizes': (64, 64, 16), 'learning_rate': 'constant', 'max_iter': 50, 'tol': 0.0001}\n",
            "0.898 (+/-0.004) for {'activation': 'relu', 'alpha': 1e-06, 'hidden_layer_sizes': (64, 64, 16), 'learning_rate': 'constant', 'max_iter': 50, 'tol': -10000}\n",
            "0.89 (+/-0.014) for {'activation': 'relu', 'alpha': 1e-06, 'hidden_layer_sizes': (64, 64, 16), 'learning_rate': 'constant', 'max_iter': 100, 'tol': 0.0001}\n",
            "0.895 (+/-0.02) for {'activation': 'relu', 'alpha': 1e-06, 'hidden_layer_sizes': (64, 64, 16), 'learning_rate': 'constant', 'max_iter': 100, 'tol': -10000}\n",
            "0.907 (+/-0.013) for {'activation': 'relu', 'alpha': 1e-06, 'hidden_layer_sizes': (64, 64, 16), 'learning_rate': 'invscaling', 'max_iter': 10, 'tol': 0.0001}\n",
            "0.904 (+/-0.014) for {'activation': 'relu', 'alpha': 1e-06, 'hidden_layer_sizes': (64, 64, 16), 'learning_rate': 'invscaling', 'max_iter': 10, 'tol': -10000}\n",
            "0.9 (+/-0.011) for {'activation': 'relu', 'alpha': 1e-06, 'hidden_layer_sizes': (64, 64, 16), 'learning_rate': 'invscaling', 'max_iter': 50, 'tol': 0.0001}\n",
            "0.896 (+/-0.018) for {'activation': 'relu', 'alpha': 1e-06, 'hidden_layer_sizes': (64, 64, 16), 'learning_rate': 'invscaling', 'max_iter': 50, 'tol': -10000}\n",
            "0.893 (+/-0.017) for {'activation': 'relu', 'alpha': 1e-06, 'hidden_layer_sizes': (64, 64, 16), 'learning_rate': 'invscaling', 'max_iter': 100, 'tol': 0.0001}\n",
            "0.894 (+/-0.012) for {'activation': 'relu', 'alpha': 1e-06, 'hidden_layer_sizes': (64, 64, 16), 'learning_rate': 'invscaling', 'max_iter': 100, 'tol': -10000}\n",
            "0.901 (+/-0.005) for {'activation': 'relu', 'alpha': 1e-06, 'hidden_layer_sizes': (64, 64, 16), 'learning_rate': 'adaptive', 'max_iter': 10, 'tol': 0.0001}\n",
            "0.901 (+/-0.006) for {'activation': 'relu', 'alpha': 1e-06, 'hidden_layer_sizes': (64, 64, 16), 'learning_rate': 'adaptive', 'max_iter': 10, 'tol': -10000}\n",
            "0.892 (+/-0.021) for {'activation': 'relu', 'alpha': 1e-06, 'hidden_layer_sizes': (64, 64, 16), 'learning_rate': 'adaptive', 'max_iter': 50, 'tol': 0.0001}\n",
            "0.897 (+/-0.011) for {'activation': 'relu', 'alpha': 1e-06, 'hidden_layer_sizes': (64, 64, 16), 'learning_rate': 'adaptive', 'max_iter': 50, 'tol': -10000}\n",
            "0.894 (+/-0.009) for {'activation': 'relu', 'alpha': 1e-06, 'hidden_layer_sizes': (64, 64, 16), 'learning_rate': 'adaptive', 'max_iter': 100, 'tol': 0.0001}\n",
            "0.891 (+/-0.014) for {'activation': 'relu', 'alpha': 1e-06, 'hidden_layer_sizes': (64, 64, 16), 'learning_rate': 'adaptive', 'max_iter': 100, 'tol': -10000}\n",
            "0.899 (+/-0.013) for {'activation': 'relu', 'alpha': 1e-09, 'hidden_layer_sizes': (32, 32, 16), 'learning_rate': 'constant', 'max_iter': 10, 'tol': 0.0001}\n",
            "0.896 (+/-0.011) for {'activation': 'relu', 'alpha': 1e-09, 'hidden_layer_sizes': (32, 32, 16), 'learning_rate': 'constant', 'max_iter': 10, 'tol': -10000}\n",
            "0.899 (+/-0.01) for {'activation': 'relu', 'alpha': 1e-09, 'hidden_layer_sizes': (32, 32, 16), 'learning_rate': 'constant', 'max_iter': 50, 'tol': 0.0001}\n",
            "0.901 (+/-0.014) for {'activation': 'relu', 'alpha': 1e-09, 'hidden_layer_sizes': (32, 32, 16), 'learning_rate': 'constant', 'max_iter': 50, 'tol': -10000}\n",
            "0.895 (+/-0.011) for {'activation': 'relu', 'alpha': 1e-09, 'hidden_layer_sizes': (32, 32, 16), 'learning_rate': 'constant', 'max_iter': 100, 'tol': 0.0001}\n",
            "0.894 (+/-0.003) for {'activation': 'relu', 'alpha': 1e-09, 'hidden_layer_sizes': (32, 32, 16), 'learning_rate': 'constant', 'max_iter': 100, 'tol': -10000}\n",
            "0.9 (+/-0.014) for {'activation': 'relu', 'alpha': 1e-09, 'hidden_layer_sizes': (32, 32, 16), 'learning_rate': 'invscaling', 'max_iter': 10, 'tol': 0.0001}\n",
            "0.896 (+/-0.01) for {'activation': 'relu', 'alpha': 1e-09, 'hidden_layer_sizes': (32, 32, 16), 'learning_rate': 'invscaling', 'max_iter': 10, 'tol': -10000}\n",
            "0.898 (+/-0.012) for {'activation': 'relu', 'alpha': 1e-09, 'hidden_layer_sizes': (32, 32, 16), 'learning_rate': 'invscaling', 'max_iter': 50, 'tol': 0.0001}\n",
            "0.898 (+/-0.013) for {'activation': 'relu', 'alpha': 1e-09, 'hidden_layer_sizes': (32, 32, 16), 'learning_rate': 'invscaling', 'max_iter': 50, 'tol': -10000}\n",
            "0.9 (+/-0.013) for {'activation': 'relu', 'alpha': 1e-09, 'hidden_layer_sizes': (32, 32, 16), 'learning_rate': 'invscaling', 'max_iter': 100, 'tol': 0.0001}\n",
            "0.896 (+/-0.006) for {'activation': 'relu', 'alpha': 1e-09, 'hidden_layer_sizes': (32, 32, 16), 'learning_rate': 'invscaling', 'max_iter': 100, 'tol': -10000}\n",
            "0.898 (+/-0.011) for {'activation': 'relu', 'alpha': 1e-09, 'hidden_layer_sizes': (32, 32, 16), 'learning_rate': 'adaptive', 'max_iter': 10, 'tol': 0.0001}\n",
            "0.898 (+/-0.013) for {'activation': 'relu', 'alpha': 1e-09, 'hidden_layer_sizes': (32, 32, 16), 'learning_rate': 'adaptive', 'max_iter': 10, 'tol': -10000}\n",
            "0.899 (+/-0.017) for {'activation': 'relu', 'alpha': 1e-09, 'hidden_layer_sizes': (32, 32, 16), 'learning_rate': 'adaptive', 'max_iter': 50, 'tol': 0.0001}\n",
            "0.901 (+/-0.012) for {'activation': 'relu', 'alpha': 1e-09, 'hidden_layer_sizes': (32, 32, 16), 'learning_rate': 'adaptive', 'max_iter': 50, 'tol': -10000}\n",
            "0.895 (+/-0.014) for {'activation': 'relu', 'alpha': 1e-09, 'hidden_layer_sizes': (32, 32, 16), 'learning_rate': 'adaptive', 'max_iter': 100, 'tol': 0.0001}\n",
            "0.888 (+/-0.013) for {'activation': 'relu', 'alpha': 1e-09, 'hidden_layer_sizes': (32, 32, 16), 'learning_rate': 'adaptive', 'max_iter': 100, 'tol': -10000}\n",
            "0.903 (+/-0.009) for {'activation': 'relu', 'alpha': 1e-09, 'hidden_layer_sizes': (64, 32, 16), 'learning_rate': 'constant', 'max_iter': 10, 'tol': 0.0001}\n",
            "0.903 (+/-0.007) for {'activation': 'relu', 'alpha': 1e-09, 'hidden_layer_sizes': (64, 32, 16), 'learning_rate': 'constant', 'max_iter': 10, 'tol': -10000}\n",
            "0.898 (+/-0.011) for {'activation': 'relu', 'alpha': 1e-09, 'hidden_layer_sizes': (64, 32, 16), 'learning_rate': 'constant', 'max_iter': 50, 'tol': 0.0001}\n",
            "0.899 (+/-0.012) for {'activation': 'relu', 'alpha': 1e-09, 'hidden_layer_sizes': (64, 32, 16), 'learning_rate': 'constant', 'max_iter': 50, 'tol': -10000}\n",
            "0.896 (+/-0.019) for {'activation': 'relu', 'alpha': 1e-09, 'hidden_layer_sizes': (64, 32, 16), 'learning_rate': 'constant', 'max_iter': 100, 'tol': 0.0001}\n",
            "0.888 (+/-0.023) for {'activation': 'relu', 'alpha': 1e-09, 'hidden_layer_sizes': (64, 32, 16), 'learning_rate': 'constant', 'max_iter': 100, 'tol': -10000}\n",
            "0.901 (+/-0.011) for {'activation': 'relu', 'alpha': 1e-09, 'hidden_layer_sizes': (64, 32, 16), 'learning_rate': 'invscaling', 'max_iter': 10, 'tol': 0.0001}\n",
            "0.901 (+/-0.01) for {'activation': 'relu', 'alpha': 1e-09, 'hidden_layer_sizes': (64, 32, 16), 'learning_rate': 'invscaling', 'max_iter': 10, 'tol': -10000}\n",
            "0.901 (+/-0.013) for {'activation': 'relu', 'alpha': 1e-09, 'hidden_layer_sizes': (64, 32, 16), 'learning_rate': 'invscaling', 'max_iter': 50, 'tol': 0.0001}\n",
            "0.9 (+/-0.013) for {'activation': 'relu', 'alpha': 1e-09, 'hidden_layer_sizes': (64, 32, 16), 'learning_rate': 'invscaling', 'max_iter': 50, 'tol': -10000}\n",
            "0.89 (+/-0.018) for {'activation': 'relu', 'alpha': 1e-09, 'hidden_layer_sizes': (64, 32, 16), 'learning_rate': 'invscaling', 'max_iter': 100, 'tol': 0.0001}\n",
            "0.889 (+/-0.019) for {'activation': 'relu', 'alpha': 1e-09, 'hidden_layer_sizes': (64, 32, 16), 'learning_rate': 'invscaling', 'max_iter': 100, 'tol': -10000}\n",
            "0.906 (+/-0.012) for {'activation': 'relu', 'alpha': 1e-09, 'hidden_layer_sizes': (64, 32, 16), 'learning_rate': 'adaptive', 'max_iter': 10, 'tol': 0.0001}\n",
            "0.899 (+/-0.015) for {'activation': 'relu', 'alpha': 1e-09, 'hidden_layer_sizes': (64, 32, 16), 'learning_rate': 'adaptive', 'max_iter': 10, 'tol': -10000}\n",
            "0.899 (+/-0.01) for {'activation': 'relu', 'alpha': 1e-09, 'hidden_layer_sizes': (64, 32, 16), 'learning_rate': 'adaptive', 'max_iter': 50, 'tol': 0.0001}\n",
            "0.899 (+/-0.014) for {'activation': 'relu', 'alpha': 1e-09, 'hidden_layer_sizes': (64, 32, 16), 'learning_rate': 'adaptive', 'max_iter': 50, 'tol': -10000}\n",
            "0.89 (+/-0.016) for {'activation': 'relu', 'alpha': 1e-09, 'hidden_layer_sizes': (64, 32, 16), 'learning_rate': 'adaptive', 'max_iter': 100, 'tol': 0.0001}\n",
            "0.889 (+/-0.015) for {'activation': 'relu', 'alpha': 1e-09, 'hidden_layer_sizes': (64, 32, 16), 'learning_rate': 'adaptive', 'max_iter': 100, 'tol': -10000}\n",
            "0.901 (+/-0.016) for {'activation': 'relu', 'alpha': 1e-09, 'hidden_layer_sizes': (64, 64, 16), 'learning_rate': 'constant', 'max_iter': 10, 'tol': 0.0001}\n",
            "0.902 (+/-0.013) for {'activation': 'relu', 'alpha': 1e-09, 'hidden_layer_sizes': (64, 64, 16), 'learning_rate': 'constant', 'max_iter': 10, 'tol': -10000}\n",
            "0.897 (+/-0.013) for {'activation': 'relu', 'alpha': 1e-09, 'hidden_layer_sizes': (64, 64, 16), 'learning_rate': 'constant', 'max_iter': 50, 'tol': 0.0001}\n",
            "0.894 (+/-0.013) for {'activation': 'relu', 'alpha': 1e-09, 'hidden_layer_sizes': (64, 64, 16), 'learning_rate': 'constant', 'max_iter': 50, 'tol': -10000}\n",
            "0.89 (+/-0.017) for {'activation': 'relu', 'alpha': 1e-09, 'hidden_layer_sizes': (64, 64, 16), 'learning_rate': 'constant', 'max_iter': 100, 'tol': 0.0001}\n",
            "0.889 (+/-0.012) for {'activation': 'relu', 'alpha': 1e-09, 'hidden_layer_sizes': (64, 64, 16), 'learning_rate': 'constant', 'max_iter': 100, 'tol': -10000}\n",
            "0.902 (+/-0.014) for {'activation': 'relu', 'alpha': 1e-09, 'hidden_layer_sizes': (64, 64, 16), 'learning_rate': 'invscaling', 'max_iter': 10, 'tol': 0.0001}\n",
            "0.901 (+/-0.012) for {'activation': 'relu', 'alpha': 1e-09, 'hidden_layer_sizes': (64, 64, 16), 'learning_rate': 'invscaling', 'max_iter': 10, 'tol': -10000}\n",
            "0.898 (+/-0.011) for {'activation': 'relu', 'alpha': 1e-09, 'hidden_layer_sizes': (64, 64, 16), 'learning_rate': 'invscaling', 'max_iter': 50, 'tol': 0.0001}\n",
            "0.893 (+/-0.021) for {'activation': 'relu', 'alpha': 1e-09, 'hidden_layer_sizes': (64, 64, 16), 'learning_rate': 'invscaling', 'max_iter': 50, 'tol': -10000}\n",
            "0.89 (+/-0.021) for {'activation': 'relu', 'alpha': 1e-09, 'hidden_layer_sizes': (64, 64, 16), 'learning_rate': 'invscaling', 'max_iter': 100, 'tol': 0.0001}\n",
            "0.89 (+/-0.017) for {'activation': 'relu', 'alpha': 1e-09, 'hidden_layer_sizes': (64, 64, 16), 'learning_rate': 'invscaling', 'max_iter': 100, 'tol': -10000}\n",
            "0.902 (+/-0.014) for {'activation': 'relu', 'alpha': 1e-09, 'hidden_layer_sizes': (64, 64, 16), 'learning_rate': 'adaptive', 'max_iter': 10, 'tol': 0.0001}\n",
            "0.902 (+/-0.006) for {'activation': 'relu', 'alpha': 1e-09, 'hidden_layer_sizes': (64, 64, 16), 'learning_rate': 'adaptive', 'max_iter': 10, 'tol': -10000}\n",
            "0.897 (+/-0.016) for {'activation': 'relu', 'alpha': 1e-09, 'hidden_layer_sizes': (64, 64, 16), 'learning_rate': 'adaptive', 'max_iter': 50, 'tol': 0.0001}\n",
            "0.897 (+/-0.014) for {'activation': 'relu', 'alpha': 1e-09, 'hidden_layer_sizes': (64, 64, 16), 'learning_rate': 'adaptive', 'max_iter': 50, 'tol': -10000}\n",
            "0.897 (+/-0.012) for {'activation': 'relu', 'alpha': 1e-09, 'hidden_layer_sizes': (64, 64, 16), 'learning_rate': 'adaptive', 'max_iter': 100, 'tol': 0.0001}\n",
            "0.898 (+/-0.014) for {'activation': 'relu', 'alpha': 1e-09, 'hidden_layer_sizes': (64, 64, 16), 'learning_rate': 'adaptive', 'max_iter': 100, 'tol': -10000}\n",
            "0.898 (+/-0.011) for {'activation': 'tanh', 'alpha': 0.001, 'hidden_layer_sizes': (32, 32, 16), 'learning_rate': 'constant', 'max_iter': 10, 'tol': 0.0001}\n",
            "0.899 (+/-0.011) for {'activation': 'tanh', 'alpha': 0.001, 'hidden_layer_sizes': (32, 32, 16), 'learning_rate': 'constant', 'max_iter': 10, 'tol': -10000}\n",
            "0.905 (+/-0.017) for {'activation': 'tanh', 'alpha': 0.001, 'hidden_layer_sizes': (32, 32, 16), 'learning_rate': 'constant', 'max_iter': 50, 'tol': 0.0001}\n",
            "0.9 (+/-0.008) for {'activation': 'tanh', 'alpha': 0.001, 'hidden_layer_sizes': (32, 32, 16), 'learning_rate': 'constant', 'max_iter': 50, 'tol': -10000}\n",
            "0.904 (+/-0.012) for {'activation': 'tanh', 'alpha': 0.001, 'hidden_layer_sizes': (32, 32, 16), 'learning_rate': 'constant', 'max_iter': 100, 'tol': 0.0001}\n",
            "0.9 (+/-0.015) for {'activation': 'tanh', 'alpha': 0.001, 'hidden_layer_sizes': (32, 32, 16), 'learning_rate': 'constant', 'max_iter': 100, 'tol': -10000}\n",
            "0.897 (+/-0.008) for {'activation': 'tanh', 'alpha': 0.001, 'hidden_layer_sizes': (32, 32, 16), 'learning_rate': 'invscaling', 'max_iter': 10, 'tol': 0.0001}\n",
            "0.897 (+/-0.01) for {'activation': 'tanh', 'alpha': 0.001, 'hidden_layer_sizes': (32, 32, 16), 'learning_rate': 'invscaling', 'max_iter': 10, 'tol': -10000}\n",
            "0.905 (+/-0.009) for {'activation': 'tanh', 'alpha': 0.001, 'hidden_layer_sizes': (32, 32, 16), 'learning_rate': 'invscaling', 'max_iter': 50, 'tol': 0.0001}\n",
            "0.903 (+/-0.011) for {'activation': 'tanh', 'alpha': 0.001, 'hidden_layer_sizes': (32, 32, 16), 'learning_rate': 'invscaling', 'max_iter': 50, 'tol': -10000}\n",
            "0.905 (+/-0.017) for {'activation': 'tanh', 'alpha': 0.001, 'hidden_layer_sizes': (32, 32, 16), 'learning_rate': 'invscaling', 'max_iter': 100, 'tol': 0.0001}\n",
            "0.901 (+/-0.013) for {'activation': 'tanh', 'alpha': 0.001, 'hidden_layer_sizes': (32, 32, 16), 'learning_rate': 'invscaling', 'max_iter': 100, 'tol': -10000}\n",
            "0.9 (+/-0.009) for {'activation': 'tanh', 'alpha': 0.001, 'hidden_layer_sizes': (32, 32, 16), 'learning_rate': 'adaptive', 'max_iter': 10, 'tol': 0.0001}\n",
            "0.899 (+/-0.009) for {'activation': 'tanh', 'alpha': 0.001, 'hidden_layer_sizes': (32, 32, 16), 'learning_rate': 'adaptive', 'max_iter': 10, 'tol': -10000}\n",
            "0.907 (+/-0.011) for {'activation': 'tanh', 'alpha': 0.001, 'hidden_layer_sizes': (32, 32, 16), 'learning_rate': 'adaptive', 'max_iter': 50, 'tol': 0.0001}\n",
            "0.906 (+/-0.012) for {'activation': 'tanh', 'alpha': 0.001, 'hidden_layer_sizes': (32, 32, 16), 'learning_rate': 'adaptive', 'max_iter': 50, 'tol': -10000}\n",
            "0.9 (+/-0.008) for {'activation': 'tanh', 'alpha': 0.001, 'hidden_layer_sizes': (32, 32, 16), 'learning_rate': 'adaptive', 'max_iter': 100, 'tol': 0.0001}\n",
            "0.901 (+/-0.01) for {'activation': 'tanh', 'alpha': 0.001, 'hidden_layer_sizes': (32, 32, 16), 'learning_rate': 'adaptive', 'max_iter': 100, 'tol': -10000}\n",
            "0.902 (+/-0.014) for {'activation': 'tanh', 'alpha': 0.001, 'hidden_layer_sizes': (64, 32, 16), 'learning_rate': 'constant', 'max_iter': 10, 'tol': 0.0001}\n",
            "0.901 (+/-0.008) for {'activation': 'tanh', 'alpha': 0.001, 'hidden_layer_sizes': (64, 32, 16), 'learning_rate': 'constant', 'max_iter': 10, 'tol': -10000}\n",
            "0.906 (+/-0.01) for {'activation': 'tanh', 'alpha': 0.001, 'hidden_layer_sizes': (64, 32, 16), 'learning_rate': 'constant', 'max_iter': 50, 'tol': 0.0001}\n",
            "0.903 (+/-0.015) for {'activation': 'tanh', 'alpha': 0.001, 'hidden_layer_sizes': (64, 32, 16), 'learning_rate': 'constant', 'max_iter': 50, 'tol': -10000}\n",
            "0.9 (+/-0.011) for {'activation': 'tanh', 'alpha': 0.001, 'hidden_layer_sizes': (64, 32, 16), 'learning_rate': 'constant', 'max_iter': 100, 'tol': 0.0001}\n",
            "0.903 (+/-0.016) for {'activation': 'tanh', 'alpha': 0.001, 'hidden_layer_sizes': (64, 32, 16), 'learning_rate': 'constant', 'max_iter': 100, 'tol': -10000}\n",
            "0.899 (+/-0.008) for {'activation': 'tanh', 'alpha': 0.001, 'hidden_layer_sizes': (64, 32, 16), 'learning_rate': 'invscaling', 'max_iter': 10, 'tol': 0.0001}\n",
            "0.901 (+/-0.01) for {'activation': 'tanh', 'alpha': 0.001, 'hidden_layer_sizes': (64, 32, 16), 'learning_rate': 'invscaling', 'max_iter': 10, 'tol': -10000}\n",
            "0.907 (+/-0.015) for {'activation': 'tanh', 'alpha': 0.001, 'hidden_layer_sizes': (64, 32, 16), 'learning_rate': 'invscaling', 'max_iter': 50, 'tol': 0.0001}\n",
            "0.906 (+/-0.008) for {'activation': 'tanh', 'alpha': 0.001, 'hidden_layer_sizes': (64, 32, 16), 'learning_rate': 'invscaling', 'max_iter': 50, 'tol': -10000}\n",
            "0.902 (+/-0.015) for {'activation': 'tanh', 'alpha': 0.001, 'hidden_layer_sizes': (64, 32, 16), 'learning_rate': 'invscaling', 'max_iter': 100, 'tol': 0.0001}\n",
            "0.897 (+/-0.012) for {'activation': 'tanh', 'alpha': 0.001, 'hidden_layer_sizes': (64, 32, 16), 'learning_rate': 'invscaling', 'max_iter': 100, 'tol': -10000}\n",
            "0.902 (+/-0.011) for {'activation': 'tanh', 'alpha': 0.001, 'hidden_layer_sizes': (64, 32, 16), 'learning_rate': 'adaptive', 'max_iter': 10, 'tol': 0.0001}\n",
            "0.901 (+/-0.013) for {'activation': 'tanh', 'alpha': 0.001, 'hidden_layer_sizes': (64, 32, 16), 'learning_rate': 'adaptive', 'max_iter': 10, 'tol': -10000}\n",
            "0.902 (+/-0.014) for {'activation': 'tanh', 'alpha': 0.001, 'hidden_layer_sizes': (64, 32, 16), 'learning_rate': 'adaptive', 'max_iter': 50, 'tol': 0.0001}\n",
            "0.906 (+/-0.01) for {'activation': 'tanh', 'alpha': 0.001, 'hidden_layer_sizes': (64, 32, 16), 'learning_rate': 'adaptive', 'max_iter': 50, 'tol': -10000}\n",
            "0.9 (+/-0.011) for {'activation': 'tanh', 'alpha': 0.001, 'hidden_layer_sizes': (64, 32, 16), 'learning_rate': 'adaptive', 'max_iter': 100, 'tol': 0.0001}\n",
            "0.904 (+/-0.005) for {'activation': 'tanh', 'alpha': 0.001, 'hidden_layer_sizes': (64, 32, 16), 'learning_rate': 'adaptive', 'max_iter': 100, 'tol': -10000}\n",
            "0.902 (+/-0.012) for {'activation': 'tanh', 'alpha': 0.001, 'hidden_layer_sizes': (64, 64, 16), 'learning_rate': 'constant', 'max_iter': 10, 'tol': 0.0001}\n",
            "0.901 (+/-0.009) for {'activation': 'tanh', 'alpha': 0.001, 'hidden_layer_sizes': (64, 64, 16), 'learning_rate': 'constant', 'max_iter': 10, 'tol': -10000}\n",
            "0.902 (+/-0.01) for {'activation': 'tanh', 'alpha': 0.001, 'hidden_layer_sizes': (64, 64, 16), 'learning_rate': 'constant', 'max_iter': 50, 'tol': 0.0001}\n",
            "0.905 (+/-0.014) for {'activation': 'tanh', 'alpha': 0.001, 'hidden_layer_sizes': (64, 64, 16), 'learning_rate': 'constant', 'max_iter': 50, 'tol': -10000}\n",
            "0.899 (+/-0.005) for {'activation': 'tanh', 'alpha': 0.001, 'hidden_layer_sizes': (64, 64, 16), 'learning_rate': 'constant', 'max_iter': 100, 'tol': 0.0001}\n",
            "0.903 (+/-0.01) for {'activation': 'tanh', 'alpha': 0.001, 'hidden_layer_sizes': (64, 64, 16), 'learning_rate': 'constant', 'max_iter': 100, 'tol': -10000}\n",
            "0.9 (+/-0.006) for {'activation': 'tanh', 'alpha': 0.001, 'hidden_layer_sizes': (64, 64, 16), 'learning_rate': 'invscaling', 'max_iter': 10, 'tol': 0.0001}\n",
            "0.904 (+/-0.012) for {'activation': 'tanh', 'alpha': 0.001, 'hidden_layer_sizes': (64, 64, 16), 'learning_rate': 'invscaling', 'max_iter': 10, 'tol': -10000}\n",
            "0.904 (+/-0.013) for {'activation': 'tanh', 'alpha': 0.001, 'hidden_layer_sizes': (64, 64, 16), 'learning_rate': 'invscaling', 'max_iter': 50, 'tol': 0.0001}\n",
            "0.906 (+/-0.007) for {'activation': 'tanh', 'alpha': 0.001, 'hidden_layer_sizes': (64, 64, 16), 'learning_rate': 'invscaling', 'max_iter': 50, 'tol': -10000}\n",
            "0.905 (+/-0.008) for {'activation': 'tanh', 'alpha': 0.001, 'hidden_layer_sizes': (64, 64, 16), 'learning_rate': 'invscaling', 'max_iter': 100, 'tol': 0.0001}\n",
            "0.901 (+/-0.008) for {'activation': 'tanh', 'alpha': 0.001, 'hidden_layer_sizes': (64, 64, 16), 'learning_rate': 'invscaling', 'max_iter': 100, 'tol': -10000}\n",
            "0.903 (+/-0.013) for {'activation': 'tanh', 'alpha': 0.001, 'hidden_layer_sizes': (64, 64, 16), 'learning_rate': 'adaptive', 'max_iter': 10, 'tol': 0.0001}\n",
            "0.9 (+/-0.009) for {'activation': 'tanh', 'alpha': 0.001, 'hidden_layer_sizes': (64, 64, 16), 'learning_rate': 'adaptive', 'max_iter': 10, 'tol': -10000}\n",
            "0.903 (+/-0.008) for {'activation': 'tanh', 'alpha': 0.001, 'hidden_layer_sizes': (64, 64, 16), 'learning_rate': 'adaptive', 'max_iter': 50, 'tol': 0.0001}\n",
            "0.907 (+/-0.005) for {'activation': 'tanh', 'alpha': 0.001, 'hidden_layer_sizes': (64, 64, 16), 'learning_rate': 'adaptive', 'max_iter': 50, 'tol': -10000}\n",
            "0.9 (+/-0.014) for {'activation': 'tanh', 'alpha': 0.001, 'hidden_layer_sizes': (64, 64, 16), 'learning_rate': 'adaptive', 'max_iter': 100, 'tol': 0.0001}\n",
            "0.904 (+/-0.009) for {'activation': 'tanh', 'alpha': 0.001, 'hidden_layer_sizes': (64, 64, 16), 'learning_rate': 'adaptive', 'max_iter': 100, 'tol': -10000}\n",
            "0.9 (+/-0.009) for {'activation': 'tanh', 'alpha': 1e-06, 'hidden_layer_sizes': (32, 32, 16), 'learning_rate': 'constant', 'max_iter': 10, 'tol': 0.0001}\n",
            "0.899 (+/-0.009) for {'activation': 'tanh', 'alpha': 1e-06, 'hidden_layer_sizes': (32, 32, 16), 'learning_rate': 'constant', 'max_iter': 10, 'tol': -10000}\n",
            "0.906 (+/-0.009) for {'activation': 'tanh', 'alpha': 1e-06, 'hidden_layer_sizes': (32, 32, 16), 'learning_rate': 'constant', 'max_iter': 50, 'tol': 0.0001}\n",
            "0.903 (+/-0.009) for {'activation': 'tanh', 'alpha': 1e-06, 'hidden_layer_sizes': (32, 32, 16), 'learning_rate': 'constant', 'max_iter': 50, 'tol': -10000}\n",
            "0.899 (+/-0.021) for {'activation': 'tanh', 'alpha': 1e-06, 'hidden_layer_sizes': (32, 32, 16), 'learning_rate': 'constant', 'max_iter': 100, 'tol': 0.0001}\n",
            "0.902 (+/-0.013) for {'activation': 'tanh', 'alpha': 1e-06, 'hidden_layer_sizes': (32, 32, 16), 'learning_rate': 'constant', 'max_iter': 100, 'tol': -10000}\n",
            "0.899 (+/-0.013) for {'activation': 'tanh', 'alpha': 1e-06, 'hidden_layer_sizes': (32, 32, 16), 'learning_rate': 'invscaling', 'max_iter': 10, 'tol': 0.0001}\n",
            "0.898 (+/-0.01) for {'activation': 'tanh', 'alpha': 1e-06, 'hidden_layer_sizes': (32, 32, 16), 'learning_rate': 'invscaling', 'max_iter': 10, 'tol': -10000}\n",
            "0.905 (+/-0.013) for {'activation': 'tanh', 'alpha': 1e-06, 'hidden_layer_sizes': (32, 32, 16), 'learning_rate': 'invscaling', 'max_iter': 50, 'tol': 0.0001}\n",
            "0.902 (+/-0.011) for {'activation': 'tanh', 'alpha': 1e-06, 'hidden_layer_sizes': (32, 32, 16), 'learning_rate': 'invscaling', 'max_iter': 50, 'tol': -10000}\n",
            "0.9 (+/-0.01) for {'activation': 'tanh', 'alpha': 1e-06, 'hidden_layer_sizes': (32, 32, 16), 'learning_rate': 'invscaling', 'max_iter': 100, 'tol': 0.0001}\n",
            "0.901 (+/-0.009) for {'activation': 'tanh', 'alpha': 1e-06, 'hidden_layer_sizes': (32, 32, 16), 'learning_rate': 'invscaling', 'max_iter': 100, 'tol': -10000}\n",
            "0.894 (+/-0.01) for {'activation': 'tanh', 'alpha': 1e-06, 'hidden_layer_sizes': (32, 32, 16), 'learning_rate': 'adaptive', 'max_iter': 10, 'tol': 0.0001}\n",
            "0.9 (+/-0.011) for {'activation': 'tanh', 'alpha': 1e-06, 'hidden_layer_sizes': (32, 32, 16), 'learning_rate': 'adaptive', 'max_iter': 10, 'tol': -10000}\n",
            "0.906 (+/-0.025) for {'activation': 'tanh', 'alpha': 1e-06, 'hidden_layer_sizes': (32, 32, 16), 'learning_rate': 'adaptive', 'max_iter': 50, 'tol': 0.0001}\n",
            "0.902 (+/-0.011) for {'activation': 'tanh', 'alpha': 1e-06, 'hidden_layer_sizes': (32, 32, 16), 'learning_rate': 'adaptive', 'max_iter': 50, 'tol': -10000}\n",
            "0.906 (+/-0.008) for {'activation': 'tanh', 'alpha': 1e-06, 'hidden_layer_sizes': (32, 32, 16), 'learning_rate': 'adaptive', 'max_iter': 100, 'tol': 0.0001}\n",
            "0.899 (+/-0.021) for {'activation': 'tanh', 'alpha': 1e-06, 'hidden_layer_sizes': (32, 32, 16), 'learning_rate': 'adaptive', 'max_iter': 100, 'tol': -10000}\n",
            "0.9 (+/-0.009) for {'activation': 'tanh', 'alpha': 1e-06, 'hidden_layer_sizes': (64, 32, 16), 'learning_rate': 'constant', 'max_iter': 10, 'tol': 0.0001}\n",
            "0.901 (+/-0.017) for {'activation': 'tanh', 'alpha': 1e-06, 'hidden_layer_sizes': (64, 32, 16), 'learning_rate': 'constant', 'max_iter': 10, 'tol': -10000}\n",
            "0.903 (+/-0.018) for {'activation': 'tanh', 'alpha': 1e-06, 'hidden_layer_sizes': (64, 32, 16), 'learning_rate': 'constant', 'max_iter': 50, 'tol': 0.0001}\n",
            "0.901 (+/-0.024) for {'activation': 'tanh', 'alpha': 1e-06, 'hidden_layer_sizes': (64, 32, 16), 'learning_rate': 'constant', 'max_iter': 50, 'tol': -10000}\n",
            "0.901 (+/-0.01) for {'activation': 'tanh', 'alpha': 1e-06, 'hidden_layer_sizes': (64, 32, 16), 'learning_rate': 'constant', 'max_iter': 100, 'tol': 0.0001}\n",
            "0.901 (+/-0.009) for {'activation': 'tanh', 'alpha': 1e-06, 'hidden_layer_sizes': (64, 32, 16), 'learning_rate': 'constant', 'max_iter': 100, 'tol': -10000}\n",
            "0.899 (+/-0.011) for {'activation': 'tanh', 'alpha': 1e-06, 'hidden_layer_sizes': (64, 32, 16), 'learning_rate': 'invscaling', 'max_iter': 10, 'tol': 0.0001}\n",
            "0.902 (+/-0.003) for {'activation': 'tanh', 'alpha': 1e-06, 'hidden_layer_sizes': (64, 32, 16), 'learning_rate': 'invscaling', 'max_iter': 10, 'tol': -10000}\n",
            "0.907 (+/-0.011) for {'activation': 'tanh', 'alpha': 1e-06, 'hidden_layer_sizes': (64, 32, 16), 'learning_rate': 'invscaling', 'max_iter': 50, 'tol': 0.0001}\n",
            "0.903 (+/-0.015) for {'activation': 'tanh', 'alpha': 1e-06, 'hidden_layer_sizes': (64, 32, 16), 'learning_rate': 'invscaling', 'max_iter': 50, 'tol': -10000}\n",
            "0.9 (+/-0.008) for {'activation': 'tanh', 'alpha': 1e-06, 'hidden_layer_sizes': (64, 32, 16), 'learning_rate': 'invscaling', 'max_iter': 100, 'tol': 0.0001}\n",
            "0.899 (+/-0.009) for {'activation': 'tanh', 'alpha': 1e-06, 'hidden_layer_sizes': (64, 32, 16), 'learning_rate': 'invscaling', 'max_iter': 100, 'tol': -10000}\n",
            "0.899 (+/-0.012) for {'activation': 'tanh', 'alpha': 1e-06, 'hidden_layer_sizes': (64, 32, 16), 'learning_rate': 'adaptive', 'max_iter': 10, 'tol': 0.0001}\n",
            "0.902 (+/-0.01) for {'activation': 'tanh', 'alpha': 1e-06, 'hidden_layer_sizes': (64, 32, 16), 'learning_rate': 'adaptive', 'max_iter': 10, 'tol': -10000}\n",
            "0.906 (+/-0.014) for {'activation': 'tanh', 'alpha': 1e-06, 'hidden_layer_sizes': (64, 32, 16), 'learning_rate': 'adaptive', 'max_iter': 50, 'tol': 0.0001}\n",
            "0.907 (+/-0.013) for {'activation': 'tanh', 'alpha': 1e-06, 'hidden_layer_sizes': (64, 32, 16), 'learning_rate': 'adaptive', 'max_iter': 50, 'tol': -10000}\n",
            "0.901 (+/-0.008) for {'activation': 'tanh', 'alpha': 1e-06, 'hidden_layer_sizes': (64, 32, 16), 'learning_rate': 'adaptive', 'max_iter': 100, 'tol': 0.0001}\n",
            "0.9 (+/-0.015) for {'activation': 'tanh', 'alpha': 1e-06, 'hidden_layer_sizes': (64, 32, 16), 'learning_rate': 'adaptive', 'max_iter': 100, 'tol': -10000}\n",
            "0.901 (+/-0.011) for {'activation': 'tanh', 'alpha': 1e-06, 'hidden_layer_sizes': (64, 64, 16), 'learning_rate': 'constant', 'max_iter': 10, 'tol': 0.0001}\n",
            "0.899 (+/-0.015) for {'activation': 'tanh', 'alpha': 1e-06, 'hidden_layer_sizes': (64, 64, 16), 'learning_rate': 'constant', 'max_iter': 10, 'tol': -10000}\n",
            "0.904 (+/-0.009) for {'activation': 'tanh', 'alpha': 1e-06, 'hidden_layer_sizes': (64, 64, 16), 'learning_rate': 'constant', 'max_iter': 50, 'tol': 0.0001}\n",
            "0.904 (+/-0.013) for {'activation': 'tanh', 'alpha': 1e-06, 'hidden_layer_sizes': (64, 64, 16), 'learning_rate': 'constant', 'max_iter': 50, 'tol': -10000}\n",
            "0.906 (+/-0.014) for {'activation': 'tanh', 'alpha': 1e-06, 'hidden_layer_sizes': (64, 64, 16), 'learning_rate': 'constant', 'max_iter': 100, 'tol': 0.0001}\n",
            "0.9 (+/-0.01) for {'activation': 'tanh', 'alpha': 1e-06, 'hidden_layer_sizes': (64, 64, 16), 'learning_rate': 'constant', 'max_iter': 100, 'tol': -10000}\n",
            "0.9 (+/-0.011) for {'activation': 'tanh', 'alpha': 1e-06, 'hidden_layer_sizes': (64, 64, 16), 'learning_rate': 'invscaling', 'max_iter': 10, 'tol': 0.0001}\n",
            "0.902 (+/-0.014) for {'activation': 'tanh', 'alpha': 1e-06, 'hidden_layer_sizes': (64, 64, 16), 'learning_rate': 'invscaling', 'max_iter': 10, 'tol': -10000}\n",
            "0.901 (+/-0.006) for {'activation': 'tanh', 'alpha': 1e-06, 'hidden_layer_sizes': (64, 64, 16), 'learning_rate': 'invscaling', 'max_iter': 50, 'tol': 0.0001}\n",
            "0.903 (+/-0.018) for {'activation': 'tanh', 'alpha': 1e-06, 'hidden_layer_sizes': (64, 64, 16), 'learning_rate': 'invscaling', 'max_iter': 50, 'tol': -10000}\n",
            "0.902 (+/-0.007) for {'activation': 'tanh', 'alpha': 1e-06, 'hidden_layer_sizes': (64, 64, 16), 'learning_rate': 'invscaling', 'max_iter': 100, 'tol': 0.0001}\n",
            "0.902 (+/-0.018) for {'activation': 'tanh', 'alpha': 1e-06, 'hidden_layer_sizes': (64, 64, 16), 'learning_rate': 'invscaling', 'max_iter': 100, 'tol': -10000}\n",
            "0.899 (+/-0.013) for {'activation': 'tanh', 'alpha': 1e-06, 'hidden_layer_sizes': (64, 64, 16), 'learning_rate': 'adaptive', 'max_iter': 10, 'tol': 0.0001}\n",
            "0.901 (+/-0.009) for {'activation': 'tanh', 'alpha': 1e-06, 'hidden_layer_sizes': (64, 64, 16), 'learning_rate': 'adaptive', 'max_iter': 10, 'tol': -10000}\n",
            "0.903 (+/-0.014) for {'activation': 'tanh', 'alpha': 1e-06, 'hidden_layer_sizes': (64, 64, 16), 'learning_rate': 'adaptive', 'max_iter': 50, 'tol': 0.0001}\n",
            "0.906 (+/-0.014) for {'activation': 'tanh', 'alpha': 1e-06, 'hidden_layer_sizes': (64, 64, 16), 'learning_rate': 'adaptive', 'max_iter': 50, 'tol': -10000}\n",
            "0.905 (+/-0.012) for {'activation': 'tanh', 'alpha': 1e-06, 'hidden_layer_sizes': (64, 64, 16), 'learning_rate': 'adaptive', 'max_iter': 100, 'tol': 0.0001}\n",
            "0.903 (+/-0.005) for {'activation': 'tanh', 'alpha': 1e-06, 'hidden_layer_sizes': (64, 64, 16), 'learning_rate': 'adaptive', 'max_iter': 100, 'tol': -10000}\n",
            "0.899 (+/-0.012) for {'activation': 'tanh', 'alpha': 1e-09, 'hidden_layer_sizes': (32, 32, 16), 'learning_rate': 'constant', 'max_iter': 10, 'tol': 0.0001}\n",
            "0.895 (+/-0.01) for {'activation': 'tanh', 'alpha': 1e-09, 'hidden_layer_sizes': (32, 32, 16), 'learning_rate': 'constant', 'max_iter': 10, 'tol': -10000}\n",
            "0.903 (+/-0.008) for {'activation': 'tanh', 'alpha': 1e-09, 'hidden_layer_sizes': (32, 32, 16), 'learning_rate': 'constant', 'max_iter': 50, 'tol': 0.0001}\n",
            "0.903 (+/-0.009) for {'activation': 'tanh', 'alpha': 1e-09, 'hidden_layer_sizes': (32, 32, 16), 'learning_rate': 'constant', 'max_iter': 50, 'tol': -10000}\n",
            "0.903 (+/-0.008) for {'activation': 'tanh', 'alpha': 1e-09, 'hidden_layer_sizes': (32, 32, 16), 'learning_rate': 'constant', 'max_iter': 100, 'tol': 0.0001}\n",
            "0.902 (+/-0.014) for {'activation': 'tanh', 'alpha': 1e-09, 'hidden_layer_sizes': (32, 32, 16), 'learning_rate': 'constant', 'max_iter': 100, 'tol': -10000}\n",
            "0.902 (+/-0.007) for {'activation': 'tanh', 'alpha': 1e-09, 'hidden_layer_sizes': (32, 32, 16), 'learning_rate': 'invscaling', 'max_iter': 10, 'tol': 0.0001}\n",
            "0.901 (+/-0.007) for {'activation': 'tanh', 'alpha': 1e-09, 'hidden_layer_sizes': (32, 32, 16), 'learning_rate': 'invscaling', 'max_iter': 10, 'tol': -10000}\n",
            "0.907 (+/-0.01) for {'activation': 'tanh', 'alpha': 1e-09, 'hidden_layer_sizes': (32, 32, 16), 'learning_rate': 'invscaling', 'max_iter': 50, 'tol': 0.0001}\n",
            "0.903 (+/-0.016) for {'activation': 'tanh', 'alpha': 1e-09, 'hidden_layer_sizes': (32, 32, 16), 'learning_rate': 'invscaling', 'max_iter': 50, 'tol': -10000}\n",
            "0.898 (+/-0.013) for {'activation': 'tanh', 'alpha': 1e-09, 'hidden_layer_sizes': (32, 32, 16), 'learning_rate': 'invscaling', 'max_iter': 100, 'tol': 0.0001}\n",
            "0.901 (+/-0.014) for {'activation': 'tanh', 'alpha': 1e-09, 'hidden_layer_sizes': (32, 32, 16), 'learning_rate': 'invscaling', 'max_iter': 100, 'tol': -10000}\n",
            "0.9 (+/-0.012) for {'activation': 'tanh', 'alpha': 1e-09, 'hidden_layer_sizes': (32, 32, 16), 'learning_rate': 'adaptive', 'max_iter': 10, 'tol': 0.0001}\n",
            "0.898 (+/-0.015) for {'activation': 'tanh', 'alpha': 1e-09, 'hidden_layer_sizes': (32, 32, 16), 'learning_rate': 'adaptive', 'max_iter': 10, 'tol': -10000}\n",
            "0.905 (+/-0.008) for {'activation': 'tanh', 'alpha': 1e-09, 'hidden_layer_sizes': (32, 32, 16), 'learning_rate': 'adaptive', 'max_iter': 50, 'tol': 0.0001}\n",
            "0.908 (+/-0.009) for {'activation': 'tanh', 'alpha': 1e-09, 'hidden_layer_sizes': (32, 32, 16), 'learning_rate': 'adaptive', 'max_iter': 50, 'tol': -10000}\n",
            "0.899 (+/-0.013) for {'activation': 'tanh', 'alpha': 1e-09, 'hidden_layer_sizes': (32, 32, 16), 'learning_rate': 'adaptive', 'max_iter': 100, 'tol': 0.0001}\n",
            "0.901 (+/-0.006) for {'activation': 'tanh', 'alpha': 1e-09, 'hidden_layer_sizes': (32, 32, 16), 'learning_rate': 'adaptive', 'max_iter': 100, 'tol': -10000}\n",
            "0.902 (+/-0.007) for {'activation': 'tanh', 'alpha': 1e-09, 'hidden_layer_sizes': (64, 32, 16), 'learning_rate': 'constant', 'max_iter': 10, 'tol': 0.0001}\n",
            "0.902 (+/-0.015) for {'activation': 'tanh', 'alpha': 1e-09, 'hidden_layer_sizes': (64, 32, 16), 'learning_rate': 'constant', 'max_iter': 10, 'tol': -10000}\n",
            "0.906 (+/-0.013) for {'activation': 'tanh', 'alpha': 1e-09, 'hidden_layer_sizes': (64, 32, 16), 'learning_rate': 'constant', 'max_iter': 50, 'tol': 0.0001}\n",
            "0.899 (+/-0.016) for {'activation': 'tanh', 'alpha': 1e-09, 'hidden_layer_sizes': (64, 32, 16), 'learning_rate': 'constant', 'max_iter': 50, 'tol': -10000}\n",
            "0.896 (+/-0.012) for {'activation': 'tanh', 'alpha': 1e-09, 'hidden_layer_sizes': (64, 32, 16), 'learning_rate': 'constant', 'max_iter': 100, 'tol': 0.0001}\n",
            "0.896 (+/-0.007) for {'activation': 'tanh', 'alpha': 1e-09, 'hidden_layer_sizes': (64, 32, 16), 'learning_rate': 'constant', 'max_iter': 100, 'tol': -10000}\n",
            "0.901 (+/-0.009) for {'activation': 'tanh', 'alpha': 1e-09, 'hidden_layer_sizes': (64, 32, 16), 'learning_rate': 'invscaling', 'max_iter': 10, 'tol': 0.0001}\n",
            "0.9 (+/-0.007) for {'activation': 'tanh', 'alpha': 1e-09, 'hidden_layer_sizes': (64, 32, 16), 'learning_rate': 'invscaling', 'max_iter': 10, 'tol': -10000}\n",
            "0.906 (+/-0.01) for {'activation': 'tanh', 'alpha': 1e-09, 'hidden_layer_sizes': (64, 32, 16), 'learning_rate': 'invscaling', 'max_iter': 50, 'tol': 0.0001}\n",
            "0.906 (+/-0.014) for {'activation': 'tanh', 'alpha': 1e-09, 'hidden_layer_sizes': (64, 32, 16), 'learning_rate': 'invscaling', 'max_iter': 50, 'tol': -10000}\n",
            "0.904 (+/-0.012) for {'activation': 'tanh', 'alpha': 1e-09, 'hidden_layer_sizes': (64, 32, 16), 'learning_rate': 'invscaling', 'max_iter': 100, 'tol': 0.0001}\n",
            "0.902 (+/-0.008) for {'activation': 'tanh', 'alpha': 1e-09, 'hidden_layer_sizes': (64, 32, 16), 'learning_rate': 'invscaling', 'max_iter': 100, 'tol': -10000}\n",
            "0.9 (+/-0.012) for {'activation': 'tanh', 'alpha': 1e-09, 'hidden_layer_sizes': (64, 32, 16), 'learning_rate': 'adaptive', 'max_iter': 10, 'tol': 0.0001}\n",
            "0.9 (+/-0.015) for {'activation': 'tanh', 'alpha': 1e-09, 'hidden_layer_sizes': (64, 32, 16), 'learning_rate': 'adaptive', 'max_iter': 10, 'tol': -10000}\n",
            "0.906 (+/-0.011) for {'activation': 'tanh', 'alpha': 1e-09, 'hidden_layer_sizes': (64, 32, 16), 'learning_rate': 'adaptive', 'max_iter': 50, 'tol': 0.0001}\n",
            "0.906 (+/-0.013) for {'activation': 'tanh', 'alpha': 1e-09, 'hidden_layer_sizes': (64, 32, 16), 'learning_rate': 'adaptive', 'max_iter': 50, 'tol': -10000}\n",
            "0.899 (+/-0.008) for {'activation': 'tanh', 'alpha': 1e-09, 'hidden_layer_sizes': (64, 32, 16), 'learning_rate': 'adaptive', 'max_iter': 100, 'tol': 0.0001}\n",
            "0.901 (+/-0.012) for {'activation': 'tanh', 'alpha': 1e-09, 'hidden_layer_sizes': (64, 32, 16), 'learning_rate': 'adaptive', 'max_iter': 100, 'tol': -10000}\n",
            "0.904 (+/-0.015) for {'activation': 'tanh', 'alpha': 1e-09, 'hidden_layer_sizes': (64, 64, 16), 'learning_rate': 'constant', 'max_iter': 10, 'tol': 0.0001}\n",
            "0.9 (+/-0.009) for {'activation': 'tanh', 'alpha': 1e-09, 'hidden_layer_sizes': (64, 64, 16), 'learning_rate': 'constant', 'max_iter': 10, 'tol': -10000}\n",
            "0.908 (+/-0.012) for {'activation': 'tanh', 'alpha': 1e-09, 'hidden_layer_sizes': (64, 64, 16), 'learning_rate': 'constant', 'max_iter': 50, 'tol': 0.0001}\n",
            "0.903 (+/-0.012) for {'activation': 'tanh', 'alpha': 1e-09, 'hidden_layer_sizes': (64, 64, 16), 'learning_rate': 'constant', 'max_iter': 50, 'tol': -10000}\n",
            "0.898 (+/-0.019) for {'activation': 'tanh', 'alpha': 1e-09, 'hidden_layer_sizes': (64, 64, 16), 'learning_rate': 'constant', 'max_iter': 100, 'tol': 0.0001}\n",
            "0.901 (+/-0.021) for {'activation': 'tanh', 'alpha': 1e-09, 'hidden_layer_sizes': (64, 64, 16), 'learning_rate': 'constant', 'max_iter': 100, 'tol': -10000}\n",
            "0.903 (+/-0.01) for {'activation': 'tanh', 'alpha': 1e-09, 'hidden_layer_sizes': (64, 64, 16), 'learning_rate': 'invscaling', 'max_iter': 10, 'tol': 0.0001}\n",
            "0.9 (+/-0.014) for {'activation': 'tanh', 'alpha': 1e-09, 'hidden_layer_sizes': (64, 64, 16), 'learning_rate': 'invscaling', 'max_iter': 10, 'tol': -10000}\n",
            "0.905 (+/-0.011) for {'activation': 'tanh', 'alpha': 1e-09, 'hidden_layer_sizes': (64, 64, 16), 'learning_rate': 'invscaling', 'max_iter': 50, 'tol': 0.0001}\n",
            "0.902 (+/-0.016) for {'activation': 'tanh', 'alpha': 1e-09, 'hidden_layer_sizes': (64, 64, 16), 'learning_rate': 'invscaling', 'max_iter': 50, 'tol': -10000}\n",
            "0.901 (+/-0.018) for {'activation': 'tanh', 'alpha': 1e-09, 'hidden_layer_sizes': (64, 64, 16), 'learning_rate': 'invscaling', 'max_iter': 100, 'tol': 0.0001}\n",
            "0.897 (+/-0.017) for {'activation': 'tanh', 'alpha': 1e-09, 'hidden_layer_sizes': (64, 64, 16), 'learning_rate': 'invscaling', 'max_iter': 100, 'tol': -10000}\n",
            "0.898 (+/-0.009) for {'activation': 'tanh', 'alpha': 1e-09, 'hidden_layer_sizes': (64, 64, 16), 'learning_rate': 'adaptive', 'max_iter': 10, 'tol': 0.0001}\n",
            "0.901 (+/-0.008) for {'activation': 'tanh', 'alpha': 1e-09, 'hidden_layer_sizes': (64, 64, 16), 'learning_rate': 'adaptive', 'max_iter': 10, 'tol': -10000}\n",
            "0.907 (+/-0.012) for {'activation': 'tanh', 'alpha': 1e-09, 'hidden_layer_sizes': (64, 64, 16), 'learning_rate': 'adaptive', 'max_iter': 50, 'tol': 0.0001}\n",
            "0.903 (+/-0.017) for {'activation': 'tanh', 'alpha': 1e-09, 'hidden_layer_sizes': (64, 64, 16), 'learning_rate': 'adaptive', 'max_iter': 50, 'tol': -10000}\n",
            "0.901 (+/-0.009) for {'activation': 'tanh', 'alpha': 1e-09, 'hidden_layer_sizes': (64, 64, 16), 'learning_rate': 'adaptive', 'max_iter': 100, 'tol': 0.0001}\n",
            "0.9 (+/-0.014) for {'activation': 'tanh', 'alpha': 1e-09, 'hidden_layer_sizes': (64, 64, 16), 'learning_rate': 'adaptive', 'max_iter': 100, 'tol': -10000}\n",
            "0.825 (+/-0.161) for {'activation': 'logistic', 'alpha': 0.001, 'hidden_layer_sizes': (32, 32, 16), 'learning_rate': 'constant', 'max_iter': 10, 'tol': 0.0001}\n",
            "0.826 (+/-0.164) for {'activation': 'logistic', 'alpha': 0.001, 'hidden_layer_sizes': (32, 32, 16), 'learning_rate': 'constant', 'max_iter': 10, 'tol': -10000}\n",
            "0.903 (+/-0.012) for {'activation': 'logistic', 'alpha': 0.001, 'hidden_layer_sizes': (32, 32, 16), 'learning_rate': 'constant', 'max_iter': 50, 'tol': 0.0001}\n",
            "0.902 (+/-0.008) for {'activation': 'logistic', 'alpha': 0.001, 'hidden_layer_sizes': (32, 32, 16), 'learning_rate': 'constant', 'max_iter': 50, 'tol': -10000}\n",
            "0.903 (+/-0.011) for {'activation': 'logistic', 'alpha': 0.001, 'hidden_layer_sizes': (32, 32, 16), 'learning_rate': 'constant', 'max_iter': 100, 'tol': 0.0001}\n",
            "0.904 (+/-0.013) for {'activation': 'logistic', 'alpha': 0.001, 'hidden_layer_sizes': (32, 32, 16), 'learning_rate': 'constant', 'max_iter': 100, 'tol': -10000}\n",
            "0.864 (+/-0.08) for {'activation': 'logistic', 'alpha': 0.001, 'hidden_layer_sizes': (32, 32, 16), 'learning_rate': 'invscaling', 'max_iter': 10, 'tol': 0.0001}\n",
            "0.841 (+/-0.175) for {'activation': 'logistic', 'alpha': 0.001, 'hidden_layer_sizes': (32, 32, 16), 'learning_rate': 'invscaling', 'max_iter': 10, 'tol': -10000}\n",
            "0.904 (+/-0.012) for {'activation': 'logistic', 'alpha': 0.001, 'hidden_layer_sizes': (32, 32, 16), 'learning_rate': 'invscaling', 'max_iter': 50, 'tol': 0.0001}\n",
            "0.904 (+/-0.013) for {'activation': 'logistic', 'alpha': 0.001, 'hidden_layer_sizes': (32, 32, 16), 'learning_rate': 'invscaling', 'max_iter': 50, 'tol': -10000}\n",
            "0.906 (+/-0.012) for {'activation': 'logistic', 'alpha': 0.001, 'hidden_layer_sizes': (32, 32, 16), 'learning_rate': 'invscaling', 'max_iter': 100, 'tol': 0.0001}\n",
            "0.903 (+/-0.01) for {'activation': 'logistic', 'alpha': 0.001, 'hidden_layer_sizes': (32, 32, 16), 'learning_rate': 'invscaling', 'max_iter': 100, 'tol': -10000}\n",
            "0.835 (+/-0.169) for {'activation': 'logistic', 'alpha': 0.001, 'hidden_layer_sizes': (32, 32, 16), 'learning_rate': 'adaptive', 'max_iter': 10, 'tol': 0.0001}\n",
            "0.758 (+/-0.224) for {'activation': 'logistic', 'alpha': 0.001, 'hidden_layer_sizes': (32, 32, 16), 'learning_rate': 'adaptive', 'max_iter': 10, 'tol': -10000}\n",
            "0.901 (+/-0.013) for {'activation': 'logistic', 'alpha': 0.001, 'hidden_layer_sizes': (32, 32, 16), 'learning_rate': 'adaptive', 'max_iter': 50, 'tol': 0.0001}\n",
            "0.904 (+/-0.013) for {'activation': 'logistic', 'alpha': 0.001, 'hidden_layer_sizes': (32, 32, 16), 'learning_rate': 'adaptive', 'max_iter': 50, 'tol': -10000}\n",
            "0.905 (+/-0.011) for {'activation': 'logistic', 'alpha': 0.001, 'hidden_layer_sizes': (32, 32, 16), 'learning_rate': 'adaptive', 'max_iter': 100, 'tol': 0.0001}\n",
            "0.904 (+/-0.007) for {'activation': 'logistic', 'alpha': 0.001, 'hidden_layer_sizes': (32, 32, 16), 'learning_rate': 'adaptive', 'max_iter': 100, 'tol': -10000}\n",
            "0.841 (+/-0.175) for {'activation': 'logistic', 'alpha': 0.001, 'hidden_layer_sizes': (64, 32, 16), 'learning_rate': 'constant', 'max_iter': 10, 'tol': 0.0001}\n",
            "0.802 (+/-0.222) for {'activation': 'logistic', 'alpha': 0.001, 'hidden_layer_sizes': (64, 32, 16), 'learning_rate': 'constant', 'max_iter': 10, 'tol': -10000}\n",
            "0.902 (+/-0.009) for {'activation': 'logistic', 'alpha': 0.001, 'hidden_layer_sizes': (64, 32, 16), 'learning_rate': 'constant', 'max_iter': 50, 'tol': 0.0001}\n",
            "0.9 (+/-0.006) for {'activation': 'logistic', 'alpha': 0.001, 'hidden_layer_sizes': (64, 32, 16), 'learning_rate': 'constant', 'max_iter': 50, 'tol': -10000}\n",
            "0.903 (+/-0.014) for {'activation': 'logistic', 'alpha': 0.001, 'hidden_layer_sizes': (64, 32, 16), 'learning_rate': 'constant', 'max_iter': 100, 'tol': 0.0001}\n",
            "0.904 (+/-0.008) for {'activation': 'logistic', 'alpha': 0.001, 'hidden_layer_sizes': (64, 32, 16), 'learning_rate': 'constant', 'max_iter': 100, 'tol': -10000}\n",
            "0.84 (+/-0.175) for {'activation': 'logistic', 'alpha': 0.001, 'hidden_layer_sizes': (64, 32, 16), 'learning_rate': 'invscaling', 'max_iter': 10, 'tol': 0.0001}\n",
            "0.882 (+/-0.025) for {'activation': 'logistic', 'alpha': 0.001, 'hidden_layer_sizes': (64, 32, 16), 'learning_rate': 'invscaling', 'max_iter': 10, 'tol': -10000}\n",
            "0.904 (+/-0.009) for {'activation': 'logistic', 'alpha': 0.001, 'hidden_layer_sizes': (64, 32, 16), 'learning_rate': 'invscaling', 'max_iter': 50, 'tol': 0.0001}\n",
            "0.903 (+/-0.013) for {'activation': 'logistic', 'alpha': 0.001, 'hidden_layer_sizes': (64, 32, 16), 'learning_rate': 'invscaling', 'max_iter': 50, 'tol': -10000}\n",
            "0.903 (+/-0.015) for {'activation': 'logistic', 'alpha': 0.001, 'hidden_layer_sizes': (64, 32, 16), 'learning_rate': 'invscaling', 'max_iter': 100, 'tol': 0.0001}\n",
            "0.903 (+/-0.01) for {'activation': 'logistic', 'alpha': 0.001, 'hidden_layer_sizes': (64, 32, 16), 'learning_rate': 'invscaling', 'max_iter': 100, 'tol': -10000}\n",
            "0.884 (+/-0.012) for {'activation': 'logistic', 'alpha': 0.001, 'hidden_layer_sizes': (64, 32, 16), 'learning_rate': 'adaptive', 'max_iter': 10, 'tol': 0.0001}\n",
            "0.842 (+/-0.175) for {'activation': 'logistic', 'alpha': 0.001, 'hidden_layer_sizes': (64, 32, 16), 'learning_rate': 'adaptive', 'max_iter': 10, 'tol': -10000}\n",
            "0.901 (+/-0.01) for {'activation': 'logistic', 'alpha': 0.001, 'hidden_layer_sizes': (64, 32, 16), 'learning_rate': 'adaptive', 'max_iter': 50, 'tol': 0.0001}\n",
            "0.904 (+/-0.009) for {'activation': 'logistic', 'alpha': 0.001, 'hidden_layer_sizes': (64, 32, 16), 'learning_rate': 'adaptive', 'max_iter': 50, 'tol': -10000}\n",
            "0.903 (+/-0.008) for {'activation': 'logistic', 'alpha': 0.001, 'hidden_layer_sizes': (64, 32, 16), 'learning_rate': 'adaptive', 'max_iter': 100, 'tol': 0.0001}\n",
            "0.905 (+/-0.011) for {'activation': 'logistic', 'alpha': 0.001, 'hidden_layer_sizes': (64, 32, 16), 'learning_rate': 'adaptive', 'max_iter': 100, 'tol': -10000}\n",
            "0.891 (+/-0.012) for {'activation': 'logistic', 'alpha': 0.001, 'hidden_layer_sizes': (64, 64, 16), 'learning_rate': 'constant', 'max_iter': 10, 'tol': 0.0001}\n",
            "0.889 (+/-0.014) for {'activation': 'logistic', 'alpha': 0.001, 'hidden_layer_sizes': (64, 64, 16), 'learning_rate': 'constant', 'max_iter': 10, 'tol': -10000}\n",
            "0.904 (+/-0.014) for {'activation': 'logistic', 'alpha': 0.001, 'hidden_layer_sizes': (64, 64, 16), 'learning_rate': 'constant', 'max_iter': 50, 'tol': 0.0001}\n",
            "0.904 (+/-0.009) for {'activation': 'logistic', 'alpha': 0.001, 'hidden_layer_sizes': (64, 64, 16), 'learning_rate': 'constant', 'max_iter': 50, 'tol': -10000}\n",
            "0.903 (+/-0.013) for {'activation': 'logistic', 'alpha': 0.001, 'hidden_layer_sizes': (64, 64, 16), 'learning_rate': 'constant', 'max_iter': 100, 'tol': 0.0001}\n",
            "0.902 (+/-0.013) for {'activation': 'logistic', 'alpha': 0.001, 'hidden_layer_sizes': (64, 64, 16), 'learning_rate': 'constant', 'max_iter': 100, 'tol': -10000}\n",
            "0.887 (+/-0.009) for {'activation': 'logistic', 'alpha': 0.001, 'hidden_layer_sizes': (64, 64, 16), 'learning_rate': 'invscaling', 'max_iter': 10, 'tol': 0.0001}\n",
            "0.888 (+/-0.014) for {'activation': 'logistic', 'alpha': 0.001, 'hidden_layer_sizes': (64, 64, 16), 'learning_rate': 'invscaling', 'max_iter': 10, 'tol': -10000}\n",
            "0.903 (+/-0.011) for {'activation': 'logistic', 'alpha': 0.001, 'hidden_layer_sizes': (64, 64, 16), 'learning_rate': 'invscaling', 'max_iter': 50, 'tol': 0.0001}\n",
            "0.903 (+/-0.011) for {'activation': 'logistic', 'alpha': 0.001, 'hidden_layer_sizes': (64, 64, 16), 'learning_rate': 'invscaling', 'max_iter': 50, 'tol': -10000}\n",
            "0.903 (+/-0.016) for {'activation': 'logistic', 'alpha': 0.001, 'hidden_layer_sizes': (64, 64, 16), 'learning_rate': 'invscaling', 'max_iter': 100, 'tol': 0.0001}\n",
            "0.904 (+/-0.01) for {'activation': 'logistic', 'alpha': 0.001, 'hidden_layer_sizes': (64, 64, 16), 'learning_rate': 'invscaling', 'max_iter': 100, 'tol': -10000}\n",
            "0.865 (+/-0.081) for {'activation': 'logistic', 'alpha': 0.001, 'hidden_layer_sizes': (64, 64, 16), 'learning_rate': 'adaptive', 'max_iter': 10, 'tol': 0.0001}\n",
            "0.88 (+/-0.045) for {'activation': 'logistic', 'alpha': 0.001, 'hidden_layer_sizes': (64, 64, 16), 'learning_rate': 'adaptive', 'max_iter': 10, 'tol': -10000}\n",
            "0.902 (+/-0.01) for {'activation': 'logistic', 'alpha': 0.001, 'hidden_layer_sizes': (64, 64, 16), 'learning_rate': 'adaptive', 'max_iter': 50, 'tol': 0.0001}\n",
            "0.903 (+/-0.01) for {'activation': 'logistic', 'alpha': 0.001, 'hidden_layer_sizes': (64, 64, 16), 'learning_rate': 'adaptive', 'max_iter': 50, 'tol': -10000}\n",
            "0.905 (+/-0.011) for {'activation': 'logistic', 'alpha': 0.001, 'hidden_layer_sizes': (64, 64, 16), 'learning_rate': 'adaptive', 'max_iter': 100, 'tol': 0.0001}\n",
            "0.904 (+/-0.011) for {'activation': 'logistic', 'alpha': 0.001, 'hidden_layer_sizes': (64, 64, 16), 'learning_rate': 'adaptive', 'max_iter': 100, 'tol': -10000}\n",
            "0.837 (+/-0.173) for {'activation': 'logistic', 'alpha': 1e-06, 'hidden_layer_sizes': (32, 32, 16), 'learning_rate': 'constant', 'max_iter': 10, 'tol': 0.0001}\n",
            "0.794 (+/-0.208) for {'activation': 'logistic', 'alpha': 1e-06, 'hidden_layer_sizes': (32, 32, 16), 'learning_rate': 'constant', 'max_iter': 10, 'tol': -10000}\n",
            "0.903 (+/-0.007) for {'activation': 'logistic', 'alpha': 1e-06, 'hidden_layer_sizes': (32, 32, 16), 'learning_rate': 'constant', 'max_iter': 50, 'tol': 0.0001}\n",
            "0.903 (+/-0.009) for {'activation': 'logistic', 'alpha': 1e-06, 'hidden_layer_sizes': (32, 32, 16), 'learning_rate': 'constant', 'max_iter': 50, 'tol': -10000}\n",
            "0.904 (+/-0.013) for {'activation': 'logistic', 'alpha': 1e-06, 'hidden_layer_sizes': (32, 32, 16), 'learning_rate': 'constant', 'max_iter': 100, 'tol': 0.0001}\n",
            "0.905 (+/-0.011) for {'activation': 'logistic', 'alpha': 1e-06, 'hidden_layer_sizes': (32, 32, 16), 'learning_rate': 'constant', 'max_iter': 100, 'tol': -10000}\n",
            "0.834 (+/-0.169) for {'activation': 'logistic', 'alpha': 1e-06, 'hidden_layer_sizes': (32, 32, 16), 'learning_rate': 'invscaling', 'max_iter': 10, 'tol': 0.0001}\n",
            "0.84 (+/-0.175) for {'activation': 'logistic', 'alpha': 1e-06, 'hidden_layer_sizes': (32, 32, 16), 'learning_rate': 'invscaling', 'max_iter': 10, 'tol': -10000}\n",
            "0.903 (+/-0.009) for {'activation': 'logistic', 'alpha': 1e-06, 'hidden_layer_sizes': (32, 32, 16), 'learning_rate': 'invscaling', 'max_iter': 50, 'tol': 0.0001}\n",
            "0.903 (+/-0.011) for {'activation': 'logistic', 'alpha': 1e-06, 'hidden_layer_sizes': (32, 32, 16), 'learning_rate': 'invscaling', 'max_iter': 50, 'tol': -10000}\n",
            "0.905 (+/-0.014) for {'activation': 'logistic', 'alpha': 1e-06, 'hidden_layer_sizes': (32, 32, 16), 'learning_rate': 'invscaling', 'max_iter': 100, 'tol': 0.0001}\n",
            "0.903 (+/-0.012) for {'activation': 'logistic', 'alpha': 1e-06, 'hidden_layer_sizes': (32, 32, 16), 'learning_rate': 'invscaling', 'max_iter': 100, 'tol': -10000}\n",
            "0.847 (+/-0.128) for {'activation': 'logistic', 'alpha': 1e-06, 'hidden_layer_sizes': (32, 32, 16), 'learning_rate': 'adaptive', 'max_iter': 10, 'tol': 0.0001}\n",
            "0.776 (+/-0.192) for {'activation': 'logistic', 'alpha': 1e-06, 'hidden_layer_sizes': (32, 32, 16), 'learning_rate': 'adaptive', 'max_iter': 10, 'tol': -10000}\n",
            "0.903 (+/-0.01) for {'activation': 'logistic', 'alpha': 1e-06, 'hidden_layer_sizes': (32, 32, 16), 'learning_rate': 'adaptive', 'max_iter': 50, 'tol': 0.0001}\n",
            "0.904 (+/-0.013) for {'activation': 'logistic', 'alpha': 1e-06, 'hidden_layer_sizes': (32, 32, 16), 'learning_rate': 'adaptive', 'max_iter': 50, 'tol': -10000}\n",
            "0.903 (+/-0.017) for {'activation': 'logistic', 'alpha': 1e-06, 'hidden_layer_sizes': (32, 32, 16), 'learning_rate': 'adaptive', 'max_iter': 100, 'tol': 0.0001}\n",
            "0.905 (+/-0.014) for {'activation': 'logistic', 'alpha': 1e-06, 'hidden_layer_sizes': (32, 32, 16), 'learning_rate': 'adaptive', 'max_iter': 100, 'tol': -10000}\n",
            "0.841 (+/-0.174) for {'activation': 'logistic', 'alpha': 1e-06, 'hidden_layer_sizes': (64, 32, 16), 'learning_rate': 'constant', 'max_iter': 10, 'tol': 0.0001}\n",
            "0.874 (+/-0.037) for {'activation': 'logistic', 'alpha': 1e-06, 'hidden_layer_sizes': (64, 32, 16), 'learning_rate': 'constant', 'max_iter': 10, 'tol': -10000}\n",
            "0.904 (+/-0.012) for {'activation': 'logistic', 'alpha': 1e-06, 'hidden_layer_sizes': (64, 32, 16), 'learning_rate': 'constant', 'max_iter': 50, 'tol': 0.0001}\n",
            "0.902 (+/-0.012) for {'activation': 'logistic', 'alpha': 1e-06, 'hidden_layer_sizes': (64, 32, 16), 'learning_rate': 'constant', 'max_iter': 50, 'tol': -10000}\n",
            "0.904 (+/-0.012) for {'activation': 'logistic', 'alpha': 1e-06, 'hidden_layer_sizes': (64, 32, 16), 'learning_rate': 'constant', 'max_iter': 100, 'tol': 0.0001}\n",
            "0.903 (+/-0.013) for {'activation': 'logistic', 'alpha': 1e-06, 'hidden_layer_sizes': (64, 32, 16), 'learning_rate': 'constant', 'max_iter': 100, 'tol': -10000}\n",
            "0.836 (+/-0.172) for {'activation': 'logistic', 'alpha': 1e-06, 'hidden_layer_sizes': (64, 32, 16), 'learning_rate': 'invscaling', 'max_iter': 10, 'tol': 0.0001}\n",
            "0.838 (+/-0.172) for {'activation': 'logistic', 'alpha': 1e-06, 'hidden_layer_sizes': (64, 32, 16), 'learning_rate': 'invscaling', 'max_iter': 10, 'tol': -10000}\n",
            "0.902 (+/-0.008) for {'activation': 'logistic', 'alpha': 1e-06, 'hidden_layer_sizes': (64, 32, 16), 'learning_rate': 'invscaling', 'max_iter': 50, 'tol': 0.0001}\n",
            "0.903 (+/-0.012) for {'activation': 'logistic', 'alpha': 1e-06, 'hidden_layer_sizes': (64, 32, 16), 'learning_rate': 'invscaling', 'max_iter': 50, 'tol': -10000}\n",
            "0.904 (+/-0.014) for {'activation': 'logistic', 'alpha': 1e-06, 'hidden_layer_sizes': (64, 32, 16), 'learning_rate': 'invscaling', 'max_iter': 100, 'tol': 0.0001}\n",
            "0.904 (+/-0.01) for {'activation': 'logistic', 'alpha': 1e-06, 'hidden_layer_sizes': (64, 32, 16), 'learning_rate': 'invscaling', 'max_iter': 100, 'tol': -10000}\n",
            "0.839 (+/-0.173) for {'activation': 'logistic', 'alpha': 1e-06, 'hidden_layer_sizes': (64, 32, 16), 'learning_rate': 'adaptive', 'max_iter': 10, 'tol': 0.0001}\n",
            "0.865 (+/-0.072) for {'activation': 'logistic', 'alpha': 1e-06, 'hidden_layer_sizes': (64, 32, 16), 'learning_rate': 'adaptive', 'max_iter': 10, 'tol': -10000}\n",
            "0.902 (+/-0.012) for {'activation': 'logistic', 'alpha': 1e-06, 'hidden_layer_sizes': (64, 32, 16), 'learning_rate': 'adaptive', 'max_iter': 50, 'tol': 0.0001}\n",
            "0.902 (+/-0.009) for {'activation': 'logistic', 'alpha': 1e-06, 'hidden_layer_sizes': (64, 32, 16), 'learning_rate': 'adaptive', 'max_iter': 50, 'tol': -10000}\n",
            "0.902 (+/-0.014) for {'activation': 'logistic', 'alpha': 1e-06, 'hidden_layer_sizes': (64, 32, 16), 'learning_rate': 'adaptive', 'max_iter': 100, 'tol': 0.0001}\n",
            "0.903 (+/-0.012) for {'activation': 'logistic', 'alpha': 1e-06, 'hidden_layer_sizes': (64, 32, 16), 'learning_rate': 'adaptive', 'max_iter': 100, 'tol': -10000}\n",
            "0.878 (+/-0.024) for {'activation': 'logistic', 'alpha': 1e-06, 'hidden_layer_sizes': (64, 64, 16), 'learning_rate': 'constant', 'max_iter': 10, 'tol': 0.0001}\n",
            "0.88 (+/-0.016) for {'activation': 'logistic', 'alpha': 1e-06, 'hidden_layer_sizes': (64, 64, 16), 'learning_rate': 'constant', 'max_iter': 10, 'tol': -10000}\n",
            "0.903 (+/-0.008) for {'activation': 'logistic', 'alpha': 1e-06, 'hidden_layer_sizes': (64, 64, 16), 'learning_rate': 'constant', 'max_iter': 50, 'tol': 0.0001}\n",
            "0.904 (+/-0.012) for {'activation': 'logistic', 'alpha': 1e-06, 'hidden_layer_sizes': (64, 64, 16), 'learning_rate': 'constant', 'max_iter': 50, 'tol': -10000}\n",
            "0.905 (+/-0.012) for {'activation': 'logistic', 'alpha': 1e-06, 'hidden_layer_sizes': (64, 64, 16), 'learning_rate': 'constant', 'max_iter': 100, 'tol': 0.0001}\n",
            "0.902 (+/-0.011) for {'activation': 'logistic', 'alpha': 1e-06, 'hidden_layer_sizes': (64, 64, 16), 'learning_rate': 'constant', 'max_iter': 100, 'tol': -10000}\n",
            "0.889 (+/-0.011) for {'activation': 'logistic', 'alpha': 1e-06, 'hidden_layer_sizes': (64, 64, 16), 'learning_rate': 'invscaling', 'max_iter': 10, 'tol': 0.0001}\n",
            "0.882 (+/-0.016) for {'activation': 'logistic', 'alpha': 1e-06, 'hidden_layer_sizes': (64, 64, 16), 'learning_rate': 'invscaling', 'max_iter': 10, 'tol': -10000}\n",
            "0.904 (+/-0.009) for {'activation': 'logistic', 'alpha': 1e-06, 'hidden_layer_sizes': (64, 64, 16), 'learning_rate': 'invscaling', 'max_iter': 50, 'tol': 0.0001}\n",
            "0.904 (+/-0.011) for {'activation': 'logistic', 'alpha': 1e-06, 'hidden_layer_sizes': (64, 64, 16), 'learning_rate': 'invscaling', 'max_iter': 50, 'tol': -10000}\n",
            "0.902 (+/-0.014) for {'activation': 'logistic', 'alpha': 1e-06, 'hidden_layer_sizes': (64, 64, 16), 'learning_rate': 'invscaling', 'max_iter': 100, 'tol': 0.0001}\n",
            "0.9 (+/-0.007) for {'activation': 'logistic', 'alpha': 1e-06, 'hidden_layer_sizes': (64, 64, 16), 'learning_rate': 'invscaling', 'max_iter': 100, 'tol': -10000}\n",
            "0.788 (+/-0.202) for {'activation': 'logistic', 'alpha': 1e-06, 'hidden_layer_sizes': (64, 64, 16), 'learning_rate': 'adaptive', 'max_iter': 10, 'tol': 0.0001}\n",
            "0.879 (+/-0.028) for {'activation': 'logistic', 'alpha': 1e-06, 'hidden_layer_sizes': (64, 64, 16), 'learning_rate': 'adaptive', 'max_iter': 10, 'tol': -10000}\n",
            "0.902 (+/-0.011) for {'activation': 'logistic', 'alpha': 1e-06, 'hidden_layer_sizes': (64, 64, 16), 'learning_rate': 'adaptive', 'max_iter': 50, 'tol': 0.0001}\n",
            "0.903 (+/-0.013) for {'activation': 'logistic', 'alpha': 1e-06, 'hidden_layer_sizes': (64, 64, 16), 'learning_rate': 'adaptive', 'max_iter': 50, 'tol': -10000}\n",
            "0.903 (+/-0.008) for {'activation': 'logistic', 'alpha': 1e-06, 'hidden_layer_sizes': (64, 64, 16), 'learning_rate': 'adaptive', 'max_iter': 100, 'tol': 0.0001}\n",
            "0.901 (+/-0.011) for {'activation': 'logistic', 'alpha': 1e-06, 'hidden_layer_sizes': (64, 64, 16), 'learning_rate': 'adaptive', 'max_iter': 100, 'tol': -10000}\n",
            "0.879 (+/-0.014) for {'activation': 'logistic', 'alpha': 1e-09, 'hidden_layer_sizes': (32, 32, 16), 'learning_rate': 'constant', 'max_iter': 10, 'tol': 0.0001}\n",
            "0.831 (+/-0.167) for {'activation': 'logistic', 'alpha': 1e-09, 'hidden_layer_sizes': (32, 32, 16), 'learning_rate': 'constant', 'max_iter': 10, 'tol': -10000}\n",
            "0.902 (+/-0.009) for {'activation': 'logistic', 'alpha': 1e-09, 'hidden_layer_sizes': (32, 32, 16), 'learning_rate': 'constant', 'max_iter': 50, 'tol': 0.0001}\n",
            "0.904 (+/-0.008) for {'activation': 'logistic', 'alpha': 1e-09, 'hidden_layer_sizes': (32, 32, 16), 'learning_rate': 'constant', 'max_iter': 50, 'tol': -10000}\n",
            "0.905 (+/-0.011) for {'activation': 'logistic', 'alpha': 1e-09, 'hidden_layer_sizes': (32, 32, 16), 'learning_rate': 'constant', 'max_iter': 100, 'tol': 0.0001}\n",
            "0.906 (+/-0.014) for {'activation': 'logistic', 'alpha': 1e-09, 'hidden_layer_sizes': (32, 32, 16), 'learning_rate': 'constant', 'max_iter': 100, 'tol': -10000}\n",
            "0.837 (+/-0.172) for {'activation': 'logistic', 'alpha': 1e-09, 'hidden_layer_sizes': (32, 32, 16), 'learning_rate': 'invscaling', 'max_iter': 10, 'tol': 0.0001}\n",
            "0.82 (+/-0.163) for {'activation': 'logistic', 'alpha': 1e-09, 'hidden_layer_sizes': (32, 32, 16), 'learning_rate': 'invscaling', 'max_iter': 10, 'tol': -10000}\n",
            "0.902 (+/-0.008) for {'activation': 'logistic', 'alpha': 1e-09, 'hidden_layer_sizes': (32, 32, 16), 'learning_rate': 'invscaling', 'max_iter': 50, 'tol': 0.0001}\n",
            "0.905 (+/-0.011) for {'activation': 'logistic', 'alpha': 1e-09, 'hidden_layer_sizes': (32, 32, 16), 'learning_rate': 'invscaling', 'max_iter': 50, 'tol': -10000}\n",
            "0.902 (+/-0.011) for {'activation': 'logistic', 'alpha': 1e-09, 'hidden_layer_sizes': (32, 32, 16), 'learning_rate': 'invscaling', 'max_iter': 100, 'tol': 0.0001}\n",
            "0.904 (+/-0.011) for {'activation': 'logistic', 'alpha': 1e-09, 'hidden_layer_sizes': (32, 32, 16), 'learning_rate': 'invscaling', 'max_iter': 100, 'tol': -10000}\n",
            "0.826 (+/-0.171) for {'activation': 'logistic', 'alpha': 1e-09, 'hidden_layer_sizes': (32, 32, 16), 'learning_rate': 'adaptive', 'max_iter': 10, 'tol': 0.0001}\n",
            "0.874 (+/-0.038) for {'activation': 'logistic', 'alpha': 1e-09, 'hidden_layer_sizes': (32, 32, 16), 'learning_rate': 'adaptive', 'max_iter': 10, 'tol': -10000}\n",
            "0.901 (+/-0.007) for {'activation': 'logistic', 'alpha': 1e-09, 'hidden_layer_sizes': (32, 32, 16), 'learning_rate': 'adaptive', 'max_iter': 50, 'tol': 0.0001}\n",
            "0.902 (+/-0.007) for {'activation': 'logistic', 'alpha': 1e-09, 'hidden_layer_sizes': (32, 32, 16), 'learning_rate': 'adaptive', 'max_iter': 50, 'tol': -10000}\n",
            "0.906 (+/-0.014) for {'activation': 'logistic', 'alpha': 1e-09, 'hidden_layer_sizes': (32, 32, 16), 'learning_rate': 'adaptive', 'max_iter': 100, 'tol': 0.0001}\n",
            "0.904 (+/-0.01) for {'activation': 'logistic', 'alpha': 1e-09, 'hidden_layer_sizes': (32, 32, 16), 'learning_rate': 'adaptive', 'max_iter': 100, 'tol': -10000}\n",
            "0.785 (+/-0.198) for {'activation': 'logistic', 'alpha': 1e-09, 'hidden_layer_sizes': (64, 32, 16), 'learning_rate': 'constant', 'max_iter': 10, 'tol': 0.0001}\n",
            "0.887 (+/-0.007) for {'activation': 'logistic', 'alpha': 1e-09, 'hidden_layer_sizes': (64, 32, 16), 'learning_rate': 'constant', 'max_iter': 10, 'tol': -10000}\n",
            "0.902 (+/-0.008) for {'activation': 'logistic', 'alpha': 1e-09, 'hidden_layer_sizes': (64, 32, 16), 'learning_rate': 'constant', 'max_iter': 50, 'tol': 0.0001}\n",
            "0.904 (+/-0.01) for {'activation': 'logistic', 'alpha': 1e-09, 'hidden_layer_sizes': (64, 32, 16), 'learning_rate': 'constant', 'max_iter': 50, 'tol': -10000}\n",
            "0.906 (+/-0.014) for {'activation': 'logistic', 'alpha': 1e-09, 'hidden_layer_sizes': (64, 32, 16), 'learning_rate': 'constant', 'max_iter': 100, 'tol': 0.0001}\n",
            "0.904 (+/-0.008) for {'activation': 'logistic', 'alpha': 1e-09, 'hidden_layer_sizes': (64, 32, 16), 'learning_rate': 'constant', 'max_iter': 100, 'tol': -10000}\n",
            "0.796 (+/-0.211) for {'activation': 'logistic', 'alpha': 1e-09, 'hidden_layer_sizes': (64, 32, 16), 'learning_rate': 'invscaling', 'max_iter': 10, 'tol': 0.0001}\n",
            "0.871 (+/-0.026) for {'activation': 'logistic', 'alpha': 1e-09, 'hidden_layer_sizes': (64, 32, 16), 'learning_rate': 'invscaling', 'max_iter': 10, 'tol': -10000}\n",
            "0.902 (+/-0.01) for {'activation': 'logistic', 'alpha': 1e-09, 'hidden_layer_sizes': (64, 32, 16), 'learning_rate': 'invscaling', 'max_iter': 50, 'tol': 0.0001}\n",
            "0.903 (+/-0.009) for {'activation': 'logistic', 'alpha': 1e-09, 'hidden_layer_sizes': (64, 32, 16), 'learning_rate': 'invscaling', 'max_iter': 50, 'tol': -10000}\n",
            "0.899 (+/-0.011) for {'activation': 'logistic', 'alpha': 1e-09, 'hidden_layer_sizes': (64, 32, 16), 'learning_rate': 'invscaling', 'max_iter': 100, 'tol': 0.0001}\n",
            "0.904 (+/-0.012) for {'activation': 'logistic', 'alpha': 1e-09, 'hidden_layer_sizes': (64, 32, 16), 'learning_rate': 'invscaling', 'max_iter': 100, 'tol': -10000}\n",
            "0.885 (+/-0.01) for {'activation': 'logistic', 'alpha': 1e-09, 'hidden_layer_sizes': (64, 32, 16), 'learning_rate': 'adaptive', 'max_iter': 10, 'tol': 0.0001}\n",
            "0.884 (+/-0.014) for {'activation': 'logistic', 'alpha': 1e-09, 'hidden_layer_sizes': (64, 32, 16), 'learning_rate': 'adaptive', 'max_iter': 10, 'tol': -10000}\n",
            "0.905 (+/-0.011) for {'activation': 'logistic', 'alpha': 1e-09, 'hidden_layer_sizes': (64, 32, 16), 'learning_rate': 'adaptive', 'max_iter': 50, 'tol': 0.0001}\n",
            "0.903 (+/-0.011) for {'activation': 'logistic', 'alpha': 1e-09, 'hidden_layer_sizes': (64, 32, 16), 'learning_rate': 'adaptive', 'max_iter': 50, 'tol': -10000}\n",
            "0.901 (+/-0.012) for {'activation': 'logistic', 'alpha': 1e-09, 'hidden_layer_sizes': (64, 32, 16), 'learning_rate': 'adaptive', 'max_iter': 100, 'tol': 0.0001}\n",
            "0.903 (+/-0.013) for {'activation': 'logistic', 'alpha': 1e-09, 'hidden_layer_sizes': (64, 32, 16), 'learning_rate': 'adaptive', 'max_iter': 100, 'tol': -10000}\n",
            "0.881 (+/-0.023) for {'activation': 'logistic', 'alpha': 1e-09, 'hidden_layer_sizes': (64, 64, 16), 'learning_rate': 'constant', 'max_iter': 10, 'tol': 0.0001}\n",
            "0.873 (+/-0.052) for {'activation': 'logistic', 'alpha': 1e-09, 'hidden_layer_sizes': (64, 64, 16), 'learning_rate': 'constant', 'max_iter': 10, 'tol': -10000}\n",
            "0.904 (+/-0.011) for {'activation': 'logistic', 'alpha': 1e-09, 'hidden_layer_sizes': (64, 64, 16), 'learning_rate': 'constant', 'max_iter': 50, 'tol': 0.0001}\n",
            "0.899 (+/-0.007) for {'activation': 'logistic', 'alpha': 1e-09, 'hidden_layer_sizes': (64, 64, 16), 'learning_rate': 'constant', 'max_iter': 50, 'tol': -10000}\n",
            "0.904 (+/-0.011) for {'activation': 'logistic', 'alpha': 1e-09, 'hidden_layer_sizes': (64, 64, 16), 'learning_rate': 'constant', 'max_iter': 100, 'tol': 0.0001}\n",
            "0.903 (+/-0.011) for {'activation': 'logistic', 'alpha': 1e-09, 'hidden_layer_sizes': (64, 64, 16), 'learning_rate': 'constant', 'max_iter': 100, 'tol': -10000}\n",
            "0.886 (+/-0.012) for {'activation': 'logistic', 'alpha': 1e-09, 'hidden_layer_sizes': (64, 64, 16), 'learning_rate': 'invscaling', 'max_iter': 10, 'tol': 0.0001}\n",
            "0.889 (+/-0.015) for {'activation': 'logistic', 'alpha': 1e-09, 'hidden_layer_sizes': (64, 64, 16), 'learning_rate': 'invscaling', 'max_iter': 10, 'tol': -10000}\n",
            "0.9 (+/-0.011) for {'activation': 'logistic', 'alpha': 1e-09, 'hidden_layer_sizes': (64, 64, 16), 'learning_rate': 'invscaling', 'max_iter': 50, 'tol': 0.0001}\n",
            "0.904 (+/-0.014) for {'activation': 'logistic', 'alpha': 1e-09, 'hidden_layer_sizes': (64, 64, 16), 'learning_rate': 'invscaling', 'max_iter': 50, 'tol': -10000}\n",
            "0.904 (+/-0.012) for {'activation': 'logistic', 'alpha': 1e-09, 'hidden_layer_sizes': (64, 64, 16), 'learning_rate': 'invscaling', 'max_iter': 100, 'tol': 0.0001}\n",
            "0.903 (+/-0.013) for {'activation': 'logistic', 'alpha': 1e-09, 'hidden_layer_sizes': (64, 64, 16), 'learning_rate': 'invscaling', 'max_iter': 100, 'tol': -10000}\n",
            "0.887 (+/-0.013) for {'activation': 'logistic', 'alpha': 1e-09, 'hidden_layer_sizes': (64, 64, 16), 'learning_rate': 'adaptive', 'max_iter': 10, 'tol': 0.0001}\n",
            "0.886 (+/-0.013) for {'activation': 'logistic', 'alpha': 1e-09, 'hidden_layer_sizes': (64, 64, 16), 'learning_rate': 'adaptive', 'max_iter': 10, 'tol': -10000}\n",
            "0.902 (+/-0.013) for {'activation': 'logistic', 'alpha': 1e-09, 'hidden_layer_sizes': (64, 64, 16), 'learning_rate': 'adaptive', 'max_iter': 50, 'tol': 0.0001}\n",
            "0.904 (+/-0.012) for {'activation': 'logistic', 'alpha': 1e-09, 'hidden_layer_sizes': (64, 64, 16), 'learning_rate': 'adaptive', 'max_iter': 50, 'tol': -10000}\n",
            "0.902 (+/-0.009) for {'activation': 'logistic', 'alpha': 1e-09, 'hidden_layer_sizes': (64, 64, 16), 'learning_rate': 'adaptive', 'max_iter': 100, 'tol': 0.0001}\n",
            "0.903 (+/-0.016) for {'activation': 'logistic', 'alpha': 1e-09, 'hidden_layer_sizes': (64, 64, 16), 'learning_rate': 'adaptive', 'max_iter': 100, 'tol': -10000}\n"
          ]
        }
      ]
    },
    {
      "cell_type": "code",
      "source": [
        "# Other hyperparameters: alpha=1e-3, early_stopping=False,\n",
        "model = cv.best_estimator_\n",
        "model"
      ],
      "metadata": {
        "colab": {
          "base_uri": "https://localhost:8080/"
        },
        "id": "6AeBLZAje068",
        "outputId": "31f742c8-f078-4730-c4eb-55244c046f63"
      },
      "execution_count": 95,
      "outputs": [
        {
          "output_type": "execute_result",
          "data": {
            "text/plain": [
              "MLPClassifier(activation='tanh', alpha=1e-09, hidden_layer_sizes=(64, 64, 16),\n",
              "              max_iter=50)"
            ]
          },
          "metadata": {},
          "execution_count": 95
        }
      ]
    },
    {
      "cell_type": "code",
      "source": [
        "predictions = model.predict(X_test)\n",
        "predictions"
      ],
      "metadata": {
        "colab": {
          "base_uri": "https://localhost:8080/"
        },
        "id": "Sm0rDDaSe-pr",
        "outputId": "5a22b573-a5e8-452f-8d15-ecabbf0941c1"
      },
      "execution_count": 96,
      "outputs": [
        {
          "output_type": "execute_result",
          "data": {
            "text/plain": [
              "array([0, 1, 0, 1, 1, 1, 0, 1, 0, 1, 1, 1, 1, 1, 1, 1, 1, 0, 0, 1, 1, 1,\n",
              "       1, 1, 1, 1, 1, 0, 1, 1, 1, 1, 0, 0, 1, 0, 0, 0, 0, 1, 1, 1, 1, 1,\n",
              "       1, 1, 1, 0, 1, 1, 1, 1, 1, 1, 1, 1, 1, 0, 0, 0, 1, 1, 1, 1, 1, 1,\n",
              "       1, 1, 1, 1, 1, 1, 1, 1, 1, 1, 1, 1, 1, 1, 1, 1, 0, 1, 0, 1, 1, 1,\n",
              "       0, 1, 0, 0, 1, 1, 1, 1, 1, 1, 1, 1, 1, 1, 1, 1, 1, 1, 1, 1, 1, 1,\n",
              "       1, 1, 1, 1, 1, 1, 1, 1, 1, 1, 1, 1, 1, 0, 1, 1, 1, 1, 1, 1, 0, 1,\n",
              "       1, 1, 1, 1, 1, 1, 1, 1, 0, 1, 1, 1, 1, 1, 1, 1, 1, 1, 1, 1, 1, 1,\n",
              "       1, 1, 1, 1, 1, 1, 0, 0, 0, 1, 1, 1, 1, 1, 1, 0, 1, 1, 1, 1, 1, 1,\n",
              "       0, 1, 1, 1, 0, 1, 0, 1, 1, 1, 1, 1, 1, 1, 1, 1, 1, 1, 1, 1, 1, 1,\n",
              "       1, 0, 1, 0, 0, 0, 1, 1, 1, 1, 1, 1, 1, 1, 0, 0, 0, 0, 0, 0, 0, 0,\n",
              "       0, 0, 0, 0, 0, 0, 0, 0, 0, 0, 0, 0, 0, 0, 0, 0, 0, 0, 0, 0, 0, 0,\n",
              "       0, 1, 0, 0, 0, 0, 0, 0, 0, 0, 0, 0, 0, 0, 0, 0, 0, 0, 0, 0, 0, 0,\n",
              "       0, 0, 0, 0, 1, 0, 0, 0, 0, 0, 0, 0, 0, 0, 0, 0, 0, 0, 1, 0, 0, 0,\n",
              "       0, 0, 0, 0, 0, 0, 0, 0, 0, 0, 0, 0, 0, 0, 0, 0, 0, 0, 0, 0, 0, 0,\n",
              "       0, 0, 0, 1, 0, 0, 0, 0, 0, 0, 0, 0, 1, 0, 0, 0, 0, 0, 0, 0, 0, 0,\n",
              "       0, 0, 0, 0, 0, 0, 0, 0, 0, 0, 0, 0, 0, 0, 0, 0, 0, 0, 0, 0, 0, 0,\n",
              "       0, 0, 0, 1, 0, 0, 0, 0, 0, 0, 0, 0, 0, 1, 0, 0, 0, 0, 0, 0, 0, 0,\n",
              "       0, 0, 0, 0, 0, 0, 0, 0, 0, 0, 0, 0, 0, 0, 0, 0, 0, 0, 0, 0, 0, 0,\n",
              "       0, 0, 0, 0, 0, 0, 0, 0, 0, 0, 0, 0, 0, 0, 0, 0, 0, 0, 0, 0, 0, 0,\n",
              "       0, 1, 0, 0, 1, 0, 0, 0, 0, 0, 0, 0, 0, 0, 0, 0, 0, 0, 0, 0, 0, 0,\n",
              "       0, 0, 0, 0, 0, 0, 0, 0, 0, 0, 0, 0, 0, 0, 0, 0, 0, 0, 1, 0, 1, 0,\n",
              "       0, 0, 0, 0, 1, 0, 0, 0, 0, 1, 0, 0, 1, 0, 0, 0, 0, 0, 1, 0, 0, 0,\n",
              "       0, 0, 0, 0, 0, 0, 0, 0, 0, 0, 0, 0, 1, 0, 0, 0, 0, 0, 0, 1, 0, 0,\n",
              "       1, 0, 1, 1, 1, 0, 0, 0, 0, 0, 0, 0, 0, 1, 0, 1, 1, 0, 1, 0, 0, 0,\n",
              "       0, 0, 0, 0, 0, 0, 0, 0, 1, 0, 0, 0, 1, 0, 0, 0, 0, 0, 1, 0, 0, 1,\n",
              "       0, 0, 0, 0, 0, 0, 0, 0, 0, 0, 0, 0, 0, 0, 0, 0, 0, 0, 0, 0, 0, 0,\n",
              "       0, 1, 1, 0, 0, 0, 0, 0, 0, 0, 0, 0, 0, 0, 1, 0, 1, 0, 1, 0, 0, 0,\n",
              "       0, 0, 0, 0, 0, 1, 0, 0, 0, 0, 0, 0, 0, 0, 0, 0, 0, 0, 0, 0, 0, 0,\n",
              "       1, 1, 0, 0, 1, 0, 0, 0, 0, 1, 1, 0, 0, 0, 0, 0, 1, 0, 0, 0, 0, 0,\n",
              "       0])"
            ]
          },
          "metadata": {},
          "execution_count": 96
        }
      ]
    },
    {
      "cell_type": "code",
      "source": [
        "from sklearn import metrics"
      ],
      "metadata": {
        "id": "PBi8Y0trfMLx"
      },
      "execution_count": 97,
      "outputs": []
    },
    {
      "cell_type": "code",
      "execution_count": 99,
      "metadata": {
        "id": "zRxMKHVnxMWU",
        "outputId": "c553e641-d180-4531-9e53-9a1ac658bbf3",
        "colab": {
          "base_uri": "https://localhost:8080/"
        }
      },
      "outputs": [
        {
          "output_type": "stream",
          "name": "stdout",
          "text": [
            "0.8650234741784039\n"
          ]
        }
      ],
      "source": [
        "fpr, tpr, thresholds = metrics.roc_curve(label_test, predictions, pos_label=1)\n",
        "auc = metrics.auc(fpr, tpr)\n",
        "print(auc)"
      ]
    }
  ],
  "metadata": {
    "kernelspec": {
      "display_name": "Python 3",
      "name": "python3"
    },
    "language_info": {
      "name": "python"
    },
    "colab": {
      "name": "Weisfeiler_Lehman_Neural_Machine.ipynb",
      "provenance": [],
      "collapsed_sections": [],
      "machine_shape": "hm",
      "include_colab_link": true
    },
    "accelerator": "GPU"
  },
  "nbformat": 4,
  "nbformat_minor": 0
}