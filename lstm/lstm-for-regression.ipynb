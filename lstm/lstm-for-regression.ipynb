{
 "cells": [
  {
   "cell_type": "markdown",
   "metadata": {},
   "source": [
    "[![Open In Colab](https://colab.research.google.com/assets/colab-badge.svg)](https://colab.research.google.com/github/hsanchez/colabs/blob/main/lstm/lstm-for-regression.ipynb)\n",
    "\n",
    "# LSTM for regression problems\n",
    "\n",
    "**GOAL:** Our goal is to forecast air quality in Austin—specifically, 2.5-micron particulate matter (PM2.5)—from sensors around the state of Texas.\n",
    "\n",
    "Specifically, we are interested in answering the question What is the air quality in Austin Texas given some sensor data?\n",
    "\n",
    "See original: https://www.crosstab.io/articles/time-series-pytorch-lstm\n",
    "\n",
    "And Github:\n",
    "https://github.com/CrosstabKite/lstm-forecasting/blob/master/lstm_forecasting.ipynb\n"
   ]
  }
 ],
 "metadata": {
  "language_info": {
   "name": "python"
  },
  "orig_nbformat": 4
 },
 "nbformat": 4,
 "nbformat_minor": 2
}
